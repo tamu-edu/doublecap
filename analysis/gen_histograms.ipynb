{
 "cells": [
  {
   "cell_type": "code",
   "execution_count": 1,
   "metadata": {},
   "outputs": [
    {
     "name": "stdout",
     "output_type": "stream",
     "text": [
      "Welcome to JupyROOT 6.24/00\n"
     ]
    }
   ],
   "source": [
    "import numpy as np\n",
    "import matplotlib.pyplot as plt\n",
    "import pandas as pd\n",
    "import ROOT\n",
    "import glob\n",
    "import sys\n",
    "import os\n"
   ]
  },
  {
   "cell_type": "code",
   "execution_count": 26,
   "metadata": {},
   "outputs": [
    {
     "name": "stdout",
     "output_type": "stream",
     "text": [
      "simdata_20241231_121236 : numfiles = 4\n",
      "simdata_20241231_145727 : numfiles = 4\n",
      "simdata_20241231_155127 : numfiles = 4\n",
      "total 2.615e+09 primaries\n"
     ]
    }
   ],
   "source": [
    "data_dir = '../build/data/'\n",
    "\n",
    "# number of primaries for given run\n",
    "# if not in this dict, assume files have 5e7 primaries\n",
    "# (distributed between all threads)\n",
    "primary_dict = {\n",
    "    'simdata_20241231_121236': 1e7,\n",
    "    'simdata_20241231_145727': 5e6\n",
    "}\n",
    "\n",
    "# dict to hold [file path -- thread counts]\n",
    "data_files_found = {}\n",
    "\n",
    "filenames = os.listdir(data_dir)\n",
    "\n",
    "Nprimaries = 0. # progressively add to this as more files read\n",
    "\n",
    "for fname in filenames:\n",
    "    fbase = fname.split('_t')[0]\n",
    "    idx = int(fname.split('_t')[1].split('.')[0])\n",
    "\n",
    "    if fbase not in data_files_found:\n",
    "        data_files_found[fbase] = []\n",
    "    \n",
    "    data_files_found[fbase].append(idx)\n",
    "\n",
    "for fbase, idxs in data_files_found.items():\n",
    "    if all(i in idxs for i in range(max(idxs)+1)):\n",
    "        numfiles = len(idxs)\n",
    "        if numfiles != 8:\n",
    "            print(fbase, ': numfiles =', numfiles)\n",
    "    else:\n",
    "        print(fbase, ': not all found')\n",
    "    if fbase in primary_dict:\n",
    "        Nprimaries += primary_dict[fbase]\n",
    "        #print('found', fbase)\n",
    "    else:\n",
    "        Nprimaries += 5e7\n",
    "\n",
    "print(f'total {Nprimaries:.4g} primaries')"
   ]
  },
  {
   "cell_type": "code",
   "execution_count": 21,
   "metadata": {},
   "outputs": [
    {
     "name": "stdout",
     "output_type": "stream",
     "text": [
      "simdata_20241231_121236 \n",
      " [0, 1, 2, 3]\n",
      "simdata_20241231_145727 \n",
      " [0, 1, 2, 3]\n"
     ]
    }
   ],
   "source": [
    "for fbase in primary_dict:\n",
    "    print(fbase, '\\n', data_files_found[fbase])"
   ]
  },
  {
   "cell_type": "code",
   "execution_count": 24,
   "metadata": {},
   "outputs": [
    {
     "data": {
      "text/plain": [
       "2.615"
      ]
     },
     "execution_count": 24,
     "metadata": {},
     "output_type": "execute_result"
    }
   ],
   "source": [
    "Nprimaries/1e9"
   ]
  },
  {
   "cell_type": "code",
   "execution_count": 30,
   "metadata": {},
   "outputs": [],
   "source": [
    "def dcsd_to_string(tree, k):\n",
    "    tree.GetEntry(k)\n",
    "    EventNum = getattr(tree, 'EventNum')\n",
    "    TrkNum = getattr(tree, 'TrkNum')\n",
    "    Edep = float(getattr(tree, 'Edep'))\n",
    "    VolName = getattr(tree, 'VolName')\n",
    "    PName = getattr(tree, 'PName')\n",
    "    ProcName = getattr(tree, 'ProcName')\n",
    "    ParentVol = getattr(tree, 'ParentVol')\n",
    "    IsCapture = getattr(tree, 'IsCapture')\n",
    "\n",
    "    s = f\"\"\"\n",
    "    EventNum        = {EventNum}\n",
    "    TrkNum          = {TrkNum}\n",
    "    Edep            = {Edep} [MeV]\n",
    "    VolName         = {VolName}\n",
    "    PName           = {PName}\n",
    "    ProcName        = {ProcName}\n",
    "    ParentVol       = {ParentVol}\n",
    "    IsCapture       = {IsCapture}\n",
    "    \"\"\"\n",
    "\n",
    "    return s"
   ]
  },
  {
   "cell_type": "code",
   "execution_count": 33,
   "metadata": {},
   "outputs": [
    {
     "name": "stdout",
     "output_type": "stream",
     "text": [
      "\n",
      "    EventNum        = 13803313\n",
      "    TrkNum          = 34\n",
      "    Edep            = 0.000667428789657555 [MeV]\n",
      "    VolName         = lowmass\n",
      "    PName           = Si29\n",
      "    ProcName        = nCapture\n",
      "    ParentVol       = lowmass\n",
      "    IsCapture       = 1\n",
      "    \n",
      "\n",
      "    EventNum        = 20715467\n",
      "    TrkNum          = 56\n",
      "    Edep            = 0.0006678201730234441 [MeV]\n",
      "    VolName         = lowmass\n",
      "    PName           = Si29\n",
      "    ProcName        = nCapture\n",
      "    ParentVol       = lowmass\n",
      "    IsCapture       = 1\n",
      "    \n",
      "\n",
      "    EventNum        = 7557213\n",
      "    TrkNum          = 29\n",
      "    Edep            = 0.00066057350094328 [MeV]\n",
      "    VolName         = lowmass\n",
      "    PName           = Si29\n",
      "    ProcName        = nCapture\n",
      "    ParentVol       = lowmass\n",
      "    IsCapture       = 1\n",
      "    \n",
      "\n",
      "    EventNum        = 7530268\n",
      "    TrkNum          = 32\n",
      "    Edep            = 0.0007788720028968919 [MeV]\n",
      "    VolName         = lowmass\n",
      "    PName           = Si29\n",
      "    ProcName        = nCapture\n",
      "    ParentVol       = lowmass\n",
      "    IsCapture       = 1\n",
      "    \n",
      "\n",
      "    EventNum        = 49174986\n",
      "    TrkNum          = 60\n",
      "    Edep            = 0.0010849943734383965 [MeV]\n",
      "    VolName         = lowmass\n",
      "    PName           = Si29\n",
      "    ProcName        = nCapture\n",
      "    ParentVol       = lowmass\n",
      "    IsCapture       = 1\n",
      "    \n",
      "\n",
      "    EventNum        = 11038245\n",
      "    TrkNum          = 22\n",
      "    Edep            = 0.000431677590255001 [MeV]\n",
      "    VolName         = lowmass\n",
      "    PName           = Si29\n",
      "    ProcName        = nCapture\n",
      "    ParentVol       = lowmass\n",
      "    IsCapture       = 1\n",
      "    \n",
      "found 9.8e+06 hits total, 6 capture events in lowmass\n"
     ]
    }
   ],
   "source": [
    "Ncaptures = 0 # number of neutron captures in the lowmass detector\n",
    "Nhits = 0 # total number of entries in trees\n",
    "\n",
    "for file in filenames:\n",
    "    tfile = ROOT.TFile.Open(data_dir + file, 'READ')\n",
    "    tree = tfile.Get('tree')\n",
    "    N = tree.GetEntries()\n",
    "    Nhits += N\n",
    "    n = tree.GetEntries('IsCapture')\n",
    "    if n > 0:\n",
    "        Ncaptures += n\n",
    "        N = tree.GetEntries()\n",
    "        for k in range(N):\n",
    "            tree.GetEntry(k)\n",
    "            if int(getattr(tree, 'IsCapture')) == 1:\n",
    "                print(dcsd_to_string(tree, k))\n",
    "        \n",
    "\n",
    "    tfile.Close()\n",
    "\n",
    "print(f'found {Nhits:.3g} hits total, {Ncaptures} capture events in lowmass')"
   ]
  },
  {
   "cell_type": "code",
   "execution_count": 29,
   "metadata": {},
   "outputs": [
    {
     "data": {
      "text/plain": [
       "6"
      ]
     },
     "execution_count": 29,
     "metadata": {},
     "output_type": "execute_result"
    }
   ],
   "source": [
    "Ncaptures"
   ]
  },
  {
   "cell_type": "code",
   "execution_count": null,
   "metadata": {},
   "outputs": [],
   "source": []
  },
  {
   "cell_type": "code",
   "execution_count": null,
   "metadata": {},
   "outputs": [],
   "source": []
  }
 ],
 "metadata": {
  "kernelspec": {
   "display_name": "root_env",
   "language": "python",
   "name": "python3"
  },
  "language_info": {
   "codemirror_mode": {
    "name": "ipython",
    "version": 3
   },
   "file_extension": ".py",
   "mimetype": "text/x-python",
   "name": "python",
   "nbconvert_exporter": "python",
   "pygments_lexer": "ipython3",
   "version": "3.9.5"
  }
 },
 "nbformat": 4,
 "nbformat_minor": 2
}
