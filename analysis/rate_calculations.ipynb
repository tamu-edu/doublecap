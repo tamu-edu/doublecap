{
 "cells": [
  {
   "cell_type": "code",
   "execution_count": 1,
   "metadata": {},
   "outputs": [
    {
     "name": "stderr",
     "output_type": "stream",
     "text": [
      "In module 'Darwin':\n",
      "/Applications/Xcode.app/Contents/Developer/Platforms/MacOSX.platform/Developer/SDKs/MacOSX.sdk/usr/include/libkern/arm/OSByteOrder.h:14:1: error: '_OSSwapInt16' has different definitions in different modules; definition in module 'Darwin.libkern.OSByteOrder' first difference is return type is 'uint16_t' (aka 'unsigned short')\n",
      "uint16_t\n",
      "^~~~~~~~\n",
      "/Applications/Xcode.app/Contents/Developer/Platforms/MacOSX.platform/Developer/SDKs/MacOSX.sdk/usr/include/libkern/arm/_OSByteOrder.h:49:1: note: but in 'DarwinFoundation.OSByteOrder' found different return type '__uint16_t' (aka 'unsigned short')\n",
      "__uint16_t\n",
      "^~~~~~~~~~\n",
      "In module 'Darwin':\n",
      "/Applications/Xcode.app/Contents/Developer/Platforms/MacOSX.platform/Developer/SDKs/MacOSX.sdk/usr/include/libkern/arm/OSByteOrder.h:24:1: error: '_OSSwapInt32' has different definitions in different modules; definition in module 'Darwin.libkern.OSByteOrder' first difference is return type is 'uint32_t' (aka 'unsigned int')\n",
      "uint32_t\n",
      "^~~~~~~~\n",
      "/Applications/Xcode.app/Contents/Developer/Platforms/MacOSX.platform/Developer/SDKs/MacOSX.sdk/usr/include/libkern/arm/_OSByteOrder.h:59:1: note: but in 'DarwinFoundation.OSByteOrder' found different return type '__uint32_t' (aka 'unsigned int')\n",
      "__uint32_t\n",
      "^~~~~~~~~~\n",
      "In module 'Darwin':\n",
      "/Applications/Xcode.app/Contents/Developer/Platforms/MacOSX.platform/Developer/SDKs/MacOSX.sdk/usr/include/libkern/arm/OSByteOrder.h:40:1: error: '_OSSwapInt64' has different definitions in different modules; definition in module 'Darwin.libkern.OSByteOrder' first difference is return type is 'uint64_t' (aka 'unsigned long long')\n",
      "uint64_t\n",
      "^~~~~~~~\n",
      "/Applications/Xcode.app/Contents/Developer/Platforms/MacOSX.platform/Developer/SDKs/MacOSX.sdk/usr/include/libkern/arm/_OSByteOrder.h:75:1: note: but in 'DarwinFoundation.OSByteOrder' found different return type '__uint64_t' (aka 'unsigned long long')\n",
      "__uint64_t\n",
      "^~~~~~~~~~\n"
     ]
    },
    {
     "name": "stdout",
     "output_type": "stream",
     "text": [
      "Welcome to JupyROOT 6.30/04\n"
     ]
    }
   ],
   "source": [
    "import numpy as np\n",
    "import matplotlib.pyplot as plt\n",
    "import pandas as pd\n",
    "import ROOT\n",
    "import glob\n",
    "import sys\n",
    "import os\n",
    "import tqdm"
   ]
  },
  {
   "cell_type": "code",
   "execution_count": 14,
   "metadata": {},
   "outputs": [],
   "source": [
    "# neutron separation energy of Cf-252\n",
    "Sn = 6.172 # MeV (energy of emitted neutron)\n",
    "\n",
    "activity = 19858367638938. # Bq/g (total decays, alphas and neutrons) [2]\n",
    "\n",
    "mCu = 37000000 # one millicurie in Bq\n",
    "\n",
    "neutron_rate = 2.314e6 # neutrons / sec / ug [1]\n",
    "neutron_frac = 3.092/100 # fraction of neutrons (remainder alpha decays) [1]\n",
    "\n",
    "density = 15.1 # g/cm^3 (wikipedia)\n",
    "\n",
    "Si_density = 2.33 # g/cm^3 (from google)\n",
    "\n",
    "#typical_purity = mCu/(0.1**3)/density/activity # set so that total is one mCu\n",
    "\n",
    "typical_purity = 1/4800 # typical fraction of Cf source that has active Cf-252 (numbers from [1] - ish: 5 cm x 1 cm radius block contains ~50 mg of Cf-252)\n",
    "\n",
    "volume = 0.1**3 # volume (cm^3)\n",
    "active_mass = density*volume*typical_purity # grams\n",
    "total_activity = active_mass*activity # Bq (decays per second)\n",
    "\n",
    "samplerate = neutron_rate*1e6*density*volume*typical_purity # emission rate (neutrons per second)\n",
    "\n",
    "\n",
    "# [1] https://doi.org/10.1016/S0969-8043(00)00214-1\n",
    "# [2] https://doi.org/10.1016/j.anucene.2023.109699 \n",
    "# other: https://www.chemlin.org/isotope/californium-252\n",
    "\n",
    "def exposure_time(Nprimaries):\n",
    "    # seconds corresponding to Nprimaries\n",
    "    return Nprimaries/total_activity"
   ]
  },
  {
   "cell_type": "code",
   "execution_count": 15,
   "metadata": {},
   "outputs": [
    {
     "name": "stdout",
     "output_type": "stream",
     "text": [
      "1.688408509842139\n"
     ]
    }
   ],
   "source": [
    "print(total_activity/mCu)"
   ]
  },
  {
   "cell_type": "code",
   "execution_count": 24,
   "metadata": {},
   "outputs": [
    {
     "data": {
      "text/plain": [
       "0.01776821179538174"
      ]
     },
     "execution_count": 24,
     "metadata": {},
     "output_type": "execute_result"
    }
   ],
   "source": [
    "def convert_to_one_mCu(rate):\n",
    "    return rate*mCu/total_activity\n",
    "\n",
    "convert_to_one_mCu(0.03)"
   ]
  },
  {
   "cell_type": "code",
   "execution_count": 16,
   "metadata": {},
   "outputs": [],
   "source": [
    "detectors = ['lowmass', 'highmass1', 'highmass2']\n",
    "def get_rates(*files):\n",
    "    counts = {det: 0 for det in detectors}\n",
    "    ncounts = {det: 0 for det in detectors}\n",
    "\n",
    "    if len(files) < 10:\n",
    "        tree_iter = lambda N: tqdm.trange(N)\n",
    "        file_iter = files\n",
    "    else:\n",
    "        tree_iter = lambda N: range(N)\n",
    "        file_iter = tqdm.tqdm(files)\n",
    "        \n",
    "\n",
    "\n",
    "    for file in file_iter:\n",
    "        last_event = -1\n",
    "        hits = {det: 0 for det in detectors}\n",
    "        tfile = ROOT.TFile.Open(file, 'READ')\n",
    "        tree = tfile.Get('tree')\n",
    "        N = tree.GetEntries()\n",
    "\n",
    "        for k in tree_iter(N):\n",
    "            tree.GetEntry(k)\n",
    "            EventNum = int(getattr(tree, 'EventNum'))\n",
    "            VolName = getattr(tree, 'VolName')\n",
    "            ProcName = getattr(tree, 'ProcName')\n",
    "            hits[VolName] += 1\n",
    "\n",
    "\n",
    "            if ProcName == 'nCapture':\n",
    "                ParentVol = getattr(tree, 'ParentVol')\n",
    "\n",
    "                if (ParentVol == VolName) and (getattr(tree, 'PName') != 'gamma'):\n",
    "                    ncounts[VolName] += 1\n",
    "\n",
    "            if abs(EventNum - last_event) > 1e-6: # new event\n",
    "                last_event = EventNum\n",
    "                for det in detectors:\n",
    "                    if hits[det] > 0:\n",
    "                        counts[det] += 1\n",
    "                \n",
    "                hits = {det: 0 for det in detectors}\n",
    "\n",
    "        tfile.Close()\n",
    "\n",
    "    return counts, ncounts\n",
    "\n"
   ]
  },
  {
   "cell_type": "code",
   "execution_count": 17,
   "metadata": {},
   "outputs": [
    {
     "name": "stdout",
     "output_type": "stream",
     "text": [
      "lowmass: 0 kHz (0 counts)\n",
      "    captures: 0 Hz (0 counts)\n",
      "highmass1: 0 kHz (0 counts)\n",
      "    captures: 0 Hz (0 counts)\n",
      "highmass2: 0 kHz (0 counts)\n",
      "    captures: 0 Hz (0 counts)\n"
     ]
    }
   ],
   "source": [
    "Nprimaries = 5e5\n",
    "T = exposure_time(Nprimaries)\n",
    "files_15_10 = [\n",
    "    #'../build/test_data/ratesim_20250109_125611_t0.root',\n",
    "    '../build/test_data/ratesim_20250109_130755_t0.root',\n",
    "] # 5.5e6 primaries\n",
    "\n",
    "files_15_5 = [\n",
    "    '../build/test_data/ratesim_20250109_133224_t0.root'\n",
    "] # 5e6 primaries\n",
    "\n",
    "files_10_5 = [\n",
    "    '../build/test_data/ratesim_20250109_135033_t0.root'\n",
    "] # 5e6 primaries\n",
    "\n",
    "files_10_10 = [\n",
    "    '../build/test_data/ratesim_20250109_140549_t0.root'\n",
    "] # 5e6 primaries\n",
    "\n",
    "files_10_15 = [\n",
    "    '../build/test_data/ratesim_20250109_142831_t0.root'\n",
    "] # 5e6 primaries\n",
    "\n",
    "files_15_15 = [\n",
    "    '../build/test_data/ratesim_20250109_144110_t0.root'\n",
    "] # 5e6 primaries\n",
    "\n",
    "files_20_5 = [\n",
    "    '../build/test_data/ratesim_20250109_150118_t0.root'\n",
    "] # 5e6 primaries\n",
    "# takeaways: not enough poly. For the same distance from the source, way more background events (and a fair amount of neutronElastic/neutronInelastic)\n",
    "\n",
    "files_15_5_v2 = glob.glob('../build/rate_data_15_5/ratesim_20250111_??????_t?.root')\n",
    "# 41*5e6 primaries\n",
    "\n",
    "files_12_5_v2 = glob.glob('../build/rate_data_12_5/ratesim2025011?_??????_t?.root')\n",
    "# 40*5e6 primaries\n",
    "\n",
    "files_10_5_v2 = glob.glob('../build/rate_data_10_5/ratesim_20250112_??????_t?.root')\n",
    "# 40*5e6 primaries\n",
    "\n",
    "counts, ncounts = get_rates(*files_10_5_v2)\n",
    "T = exposure_time(40*50e6)\n",
    "\n",
    "for det in detectors:\n",
    "    print(f'{det}: {counts[det]/T/1e3:.4g} kHz ({counts[det]:.3g} counts)')\n",
    "    print(f'    captures: {ncounts[det]/T:.4g} Hz ({ncounts[det]:.3g} counts)')"
   ]
  },
  {
   "cell_type": "code",
   "execution_count": 18,
   "metadata": {},
   "outputs": [
    {
     "data": {
      "text/plain": [
       "{'lowmass': 0, 'highmass1': 0, 'highmass2': 0}"
      ]
     },
     "execution_count": 18,
     "metadata": {},
     "output_type": "execute_result"
    }
   ],
   "source": [
    "counts"
   ]
  },
  {
   "cell_type": "code",
   "execution_count": 19,
   "metadata": {},
   "outputs": [
    {
     "data": {
      "text/plain": [
       "{'lowmass': 0, 'highmass1': 0, 'highmass2': 0}"
      ]
     },
     "execution_count": 19,
     "metadata": {},
     "output_type": "execute_result"
    }
   ],
   "source": [
    "ncounts"
   ]
  },
  {
   "cell_type": "code",
   "execution_count": 40,
   "metadata": {},
   "outputs": [
    {
     "data": {
      "text/plain": [
       "0.03204293994002423"
      ]
     },
     "execution_count": 40,
     "metadata": {},
     "output_type": "execute_result"
    }
   ],
   "source": [
    "np.sqrt(3)/exposure_time(40*50e6)*mCu/total_activity"
   ]
  },
  {
   "cell_type": "code",
   "execution_count": 38,
   "metadata": {},
   "outputs": [
    {
     "data": {
      "text/plain": [
       "5.561450291954484"
      ]
     },
     "execution_count": 38,
     "metadata": {},
     "output_type": "execute_result"
    }
   ],
   "source": [
    "9.39*mCu/total_activity"
   ]
  },
  {
   "cell_type": "code",
   "execution_count": 21,
   "metadata": {},
   "outputs": [
    {
     "data": {
      "text/plain": [
       "32.014796027714844"
      ]
     },
     "execution_count": 21,
     "metadata": {},
     "output_type": "execute_result"
    }
   ],
   "source": [
    "exposure_time(40*50e6)"
   ]
  },
  {
   "cell_type": "code",
   "execution_count": 22,
   "metadata": {},
   "outputs": [],
   "source": [
    "iontable = 'simdata_20250114_121957_t0.root' # using first versions of throwing ions directly"
   ]
  },
  {
   "cell_type": "code",
   "execution_count": 23,
   "metadata": {},
   "outputs": [
    {
     "data": {
      "text/plain": [
       "0.8333333333333334"
      ]
     },
     "execution_count": 23,
     "metadata": {},
     "output_type": "execute_result"
    }
   ],
   "source": [
    "typical_purity*4000"
   ]
  },
  {
   "cell_type": "code",
   "execution_count": 39,
   "metadata": {},
   "outputs": [
    {
     "data": {
      "text/plain": [
       "1.688408509842139"
      ]
     },
     "execution_count": 39,
     "metadata": {},
     "output_type": "execute_result"
    }
   ],
   "source": [
    "total_activity/mCu"
   ]
  }
 ],
 "metadata": {
  "kernelspec": {
   "display_name": "root_env",
   "language": "python",
   "name": "python3"
  },
  "language_info": {
   "codemirror_mode": {
    "name": "ipython",
    "version": 3
   },
   "file_extension": ".py",
   "mimetype": "text/x-python",
   "name": "python",
   "nbconvert_exporter": "python",
   "pygments_lexer": "ipython3",
   "version": "3.10.16"
  }
 },
 "nbformat": 4,
 "nbformat_minor": 2
}
