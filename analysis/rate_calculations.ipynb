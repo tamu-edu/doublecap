{
 "cells": [
  {
   "cell_type": "code",
   "execution_count": 1,
   "metadata": {},
   "outputs": [
    {
     "name": "stderr",
     "output_type": "stream",
     "text": [
      "In module 'Darwin':\n",
      "/Applications/Xcode.app/Contents/Developer/Platforms/MacOSX.platform/Developer/SDKs/MacOSX.sdk/usr/include/libkern/arm/OSByteOrder.h:14:1: error: '_OSSwapInt16' has different definitions in different modules; definition in module 'Darwin.libkern.OSByteOrder' first difference is return type is 'uint16_t' (aka 'unsigned short')\n",
      "uint16_t\n",
      "^~~~~~~~\n",
      "/Applications/Xcode.app/Contents/Developer/Platforms/MacOSX.platform/Developer/SDKs/MacOSX.sdk/usr/include/libkern/arm/_OSByteOrder.h:49:1: note: but in 'DarwinFoundation.OSByteOrder' found different return type '__uint16_t' (aka 'unsigned short')\n",
      "__uint16_t\n",
      "^~~~~~~~~~\n",
      "In module 'Darwin':\n",
      "/Applications/Xcode.app/Contents/Developer/Platforms/MacOSX.platform/Developer/SDKs/MacOSX.sdk/usr/include/libkern/arm/OSByteOrder.h:24:1: error: '_OSSwapInt32' has different definitions in different modules; definition in module 'Darwin.libkern.OSByteOrder' first difference is return type is 'uint32_t' (aka 'unsigned int')\n",
      "uint32_t\n",
      "^~~~~~~~\n",
      "/Applications/Xcode.app/Contents/Developer/Platforms/MacOSX.platform/Developer/SDKs/MacOSX.sdk/usr/include/libkern/arm/_OSByteOrder.h:59:1: note: but in 'DarwinFoundation.OSByteOrder' found different return type '__uint32_t' (aka 'unsigned int')\n",
      "__uint32_t\n",
      "^~~~~~~~~~\n",
      "In module 'Darwin':\n",
      "/Applications/Xcode.app/Contents/Developer/Platforms/MacOSX.platform/Developer/SDKs/MacOSX.sdk/usr/include/libkern/arm/OSByteOrder.h:40:1: error: '_OSSwapInt64' has different definitions in different modules; definition in module 'Darwin.libkern.OSByteOrder' first difference is return type is 'uint64_t' (aka 'unsigned long long')\n",
      "uint64_t\n",
      "^~~~~~~~\n",
      "/Applications/Xcode.app/Contents/Developer/Platforms/MacOSX.platform/Developer/SDKs/MacOSX.sdk/usr/include/libkern/arm/_OSByteOrder.h:75:1: note: but in 'DarwinFoundation.OSByteOrder' found different return type '__uint64_t' (aka 'unsigned long long')\n",
      "__uint64_t\n",
      "^~~~~~~~~~\n"
     ]
    },
    {
     "name": "stdout",
     "output_type": "stream",
     "text": [
      "Welcome to JupyROOT 6.30/04\n"
     ]
    }
   ],
   "source": [
    "import numpy as np\n",
    "import matplotlib.pyplot as plt\n",
    "import pandas as pd\n",
    "import ROOT\n",
    "import glob\n",
    "import sys\n",
    "import os\n",
    "import tqdm\n",
    "import importlib\n",
    "\n",
    "import shield_optimization as so"
   ]
  },
  {
   "cell_type": "code",
   "execution_count": 2,
   "metadata": {},
   "outputs": [],
   "source": [
    "# neutron separation energy of Cf-252\n",
    "Sn = 6.172 # MeV (energy of emitted neutron)\n",
    "\n",
    "activity = 19858367638938. # Bq/g (total decays, alphas and neutrons) [2]\n",
    "\n",
    "mCu = 37000000 # one millicurie in Bq\n",
    "\n",
    "neutron_rate = 2.314e6 # neutrons / sec / ug [1]\n",
    "neutron_frac = 3.092/100 # fraction of neutrons (remainder alpha decays) [1]\n",
    "\n",
    "density = 15.1 # g/cm^3 (wikipedia)\n",
    "\n",
    "Si_density = 2.33 # g/cm^3 (from google)\n",
    "\n",
    "#typical_purity = mCu/(0.1**3)/density/activity # set so that total is one mCu\n",
    "\n",
    "typical_purity = 1/4800 # typical fraction of Cf source that has active Cf-252 (numbers from [1] - ish: 5 cm x 1 cm radius block contains ~50 mg of Cf-252)\n",
    "\n",
    "volume = 0.1**3 # volume (cm^3)\n",
    "active_mass = density*volume*typical_purity # grams\n",
    "total_activity = active_mass*activity # Bq (decays per second)\n",
    "\n",
    "samplerate = neutron_rate*1e6*density*volume*typical_purity # emission rate (neutrons per second)\n",
    "\n",
    "\n",
    "# [1] https://doi.org/10.1016/S0969-8043(00)00214-1\n",
    "# [2] https://doi.org/10.1016/j.anucene.2023.109699 \n",
    "# other: https://www.chemlin.org/isotope/californium-252\n",
    "\n",
    "def exposure_time(Nprimaries):\n",
    "    # seconds corresponding to Nprimaries\n",
    "    return Nprimaries/total_activity\n",
    "\n",
    "def mCu_exposure_time(Nprimaries):\n",
    "    return Nprimaries/mCu"
   ]
  },
  {
   "cell_type": "code",
   "execution_count": 3,
   "metadata": {},
   "outputs": [
    {
     "name": "stdout",
     "output_type": "stream",
     "text": [
      "1.688408509842139\n"
     ]
    }
   ],
   "source": [
    "print(total_activity/mCu)"
   ]
  },
  {
   "cell_type": "code",
   "execution_count": 4,
   "metadata": {},
   "outputs": [
    {
     "data": {
      "text/plain": [
       "0.01776821179538174"
      ]
     },
     "execution_count": 4,
     "metadata": {},
     "output_type": "execute_result"
    }
   ],
   "source": [
    "def convert_to_one_mCu(rate):\n",
    "    return rate*mCu/total_activity\n",
    "\n",
    "convert_to_one_mCu(0.03)"
   ]
  },
  {
   "cell_type": "code",
   "execution_count": 5,
   "metadata": {},
   "outputs": [],
   "source": [
    "detectors = ['lowmass', 'highmass1', 'highmass2']\n",
    "def get_rates(*files):\n",
    "    counts = {det: 0 for det in detectors}\n",
    "    ncounts = {det: 0 for det in detectors}\n",
    "\n",
    "    if len(files) < 10:\n",
    "        tree_iter = lambda N: tqdm.trange(N)\n",
    "        file_iter = files\n",
    "    else:\n",
    "        tree_iter = lambda N: range(N)\n",
    "        file_iter = tqdm.tqdm(files)\n",
    "        \n",
    "\n",
    "\n",
    "    for file in file_iter:\n",
    "        last_event = -1\n",
    "        hits = {det: 0 for det in detectors}\n",
    "        tfile = ROOT.TFile.Open(file, 'READ')\n",
    "        tree = tfile.Get('tree')\n",
    "        N = tree.GetEntries()\n",
    "\n",
    "        for k in tree_iter(N):\n",
    "            tree.GetEntry(k)\n",
    "            EventNum = int(getattr(tree, 'EventNum'))\n",
    "            VolName = getattr(tree, 'VolName')\n",
    "            ProcName = getattr(tree, 'ProcName')\n",
    "            hits[VolName] += 1\n",
    "\n",
    "\n",
    "            if ProcName == 'nCapture':\n",
    "                ParentVol = getattr(tree, 'ParentVol')\n",
    "\n",
    "                if (ParentVol == VolName) and (getattr(tree, 'PName') != 'gamma'):\n",
    "                    ncounts[VolName] += 1\n",
    "\n",
    "            if abs(EventNum - last_event) > 1e-6: # new event\n",
    "                last_event = EventNum\n",
    "                for det in detectors:\n",
    "                    if hits[det] > 0:\n",
    "                        counts[det] += 1\n",
    "                \n",
    "                hits = {det: 0 for det in detectors}\n",
    "\n",
    "        tfile.Close()\n",
    "\n",
    "    return counts, ncounts\n",
    "\n"
   ]
  },
  {
   "cell_type": "code",
   "execution_count": 6,
   "metadata": {},
   "outputs": [
    {
     "name": "stdout",
     "output_type": "stream",
     "text": [
      "lowmass: 0 kHz (0 counts)\n",
      "    captures: 0 Hz (0 counts)\n",
      "highmass1: 0 kHz (0 counts)\n",
      "    captures: 0 Hz (0 counts)\n",
      "highmass2: 0 kHz (0 counts)\n",
      "    captures: 0 Hz (0 counts)\n"
     ]
    }
   ],
   "source": [
    "Nprimaries = 5e5\n",
    "T = exposure_time(Nprimaries)\n",
    "files_15_10 = [\n",
    "    #'../build/test_data/ratesim_20250109_125611_t0.root',\n",
    "    '../build/test_data/ratesim_20250109_130755_t0.root',\n",
    "] # 5.5e6 primaries\n",
    "\n",
    "files_15_5 = [\n",
    "    '../build/test_data/ratesim_20250109_133224_t0.root'\n",
    "] # 5e6 primaries\n",
    "\n",
    "files_10_5 = [\n",
    "    '../build/test_data/ratesim_20250109_135033_t0.root'\n",
    "] # 5e6 primaries\n",
    "\n",
    "files_10_10 = [\n",
    "    '../build/test_data/ratesim_20250109_140549_t0.root'\n",
    "] # 5e6 primaries\n",
    "\n",
    "files_10_15 = [\n",
    "    '../build/test_data/ratesim_20250109_142831_t0.root'\n",
    "] # 5e6 primaries\n",
    "\n",
    "files_15_15 = [\n",
    "    '../build/test_data/ratesim_20250109_144110_t0.root'\n",
    "] # 5e6 primaries\n",
    "\n",
    "files_20_5 = [\n",
    "    '../build/test_data/ratesim_20250109_150118_t0.root'\n",
    "] # 5e6 primaries\n",
    "# takeaways: not enough poly. For the same distance from the source, way more background events (and a fair amount of neutronElastic/neutronInelastic)\n",
    "\n",
    "files_15_5_v2 = glob.glob('../build/rate_data_15_5/ratesim_20250111_??????_t?.root')\n",
    "# 41*5e6 primaries\n",
    "\n",
    "files_12_5_v2 = glob.glob('../build/rate_data_12_5/ratesim2025011?_??????_t?.root')\n",
    "# 40*5e6 primaries\n",
    "\n",
    "files_10_5_v2 = glob.glob('../build/rate_data_10_5/ratesim_20250112_??????_t?.root')\n",
    "# 40*5e6 primaries\n",
    "\n",
    "counts, ncounts = get_rates(*files_10_5_v2)\n",
    "T = exposure_time(40*50e6)\n",
    "\n",
    "for det in detectors:\n",
    "    print(f'{det}: {counts[det]/T/1e3:.4g} kHz ({counts[det]:.3g} counts)')\n",
    "    print(f'    captures: {ncounts[det]/T:.4g} Hz ({ncounts[det]:.3g} counts)')"
   ]
  },
  {
   "cell_type": "code",
   "execution_count": 7,
   "metadata": {},
   "outputs": [
    {
     "name": "stderr",
     "output_type": "stream",
     "text": [
      "100%|██████████| 16/16 [00:04<00:00,  3.81it/s]"
     ]
    },
    {
     "name": "stdout",
     "output_type": "stream",
     "text": [
      "lowmass: 0.01869 kHz (101 counts)\n",
      "    captures: 1.11 Hz (6 counts)\n",
      "highmass1: 32.46 kHz (1.75e+05 counts)\n",
      "    captures: 1e+04 Hz (5.41e+04 counts)\n",
      "highmass2: 23.35 kHz (1.26e+05 counts)\n",
      "    captures: 6640 Hz (3.59e+04 counts)\n"
     ]
    },
    {
     "name": "stderr",
     "output_type": "stream",
     "text": [
      "\n"
     ]
    }
   ],
   "source": [
    "counts, ncounts = get_rates(*glob.glob('../build/shield_sim/Lead10_PE5*.root'))\n",
    "\n",
    "T = mCu_exposure_time(2*1e8)\n",
    "\n",
    "for det in detectors:\n",
    "    print(f'{det}: {counts[det]/T/1e3:.4g} kHz ({counts[det]:.3g} counts)')\n",
    "    print(f'    captures: {ncounts[det]/T:.4g} Hz ({ncounts[det]:.3g} counts)')"
   ]
  },
  {
   "cell_type": "code",
   "execution_count": 8,
   "metadata": {},
   "outputs": [
    {
     "data": {
      "text/plain": [
       "{'lowmass': 101, 'highmass1': 175435, 'highmass2': 126237}"
      ]
     },
     "execution_count": 8,
     "metadata": {},
     "output_type": "execute_result"
    }
   ],
   "source": [
    "counts"
   ]
  },
  {
   "cell_type": "code",
   "execution_count": 9,
   "metadata": {},
   "outputs": [
    {
     "data": {
      "text/plain": [
       "{'lowmass': 6, 'highmass1': 54077, 'highmass2': 35890}"
      ]
     },
     "execution_count": 9,
     "metadata": {},
     "output_type": "execute_result"
    }
   ],
   "source": [
    "ncounts"
   ]
  },
  {
   "cell_type": "code",
   "execution_count": 10,
   "metadata": {},
   "outputs": [
    {
     "data": {
      "text/plain": [
       "0.03204293994002423"
      ]
     },
     "execution_count": 10,
     "metadata": {},
     "output_type": "execute_result"
    }
   ],
   "source": [
    "np.sqrt(3)/exposure_time(40*50e6)*mCu/total_activity"
   ]
  },
  {
   "cell_type": "code",
   "execution_count": 11,
   "metadata": {},
   "outputs": [
    {
     "data": {
      "text/plain": [
       "5.561450291954484"
      ]
     },
     "execution_count": 11,
     "metadata": {},
     "output_type": "execute_result"
    }
   ],
   "source": [
    "9.39*mCu/total_activity"
   ]
  },
  {
   "cell_type": "code",
   "execution_count": 12,
   "metadata": {},
   "outputs": [
    {
     "data": {
      "text/plain": [
       "32.014796027714844"
      ]
     },
     "execution_count": 12,
     "metadata": {},
     "output_type": "execute_result"
    }
   ],
   "source": [
    "exposure_time(40*50e6)"
   ]
  },
  {
   "cell_type": "code",
   "execution_count": 13,
   "metadata": {},
   "outputs": [],
   "source": [
    "iontable = 'simdata_20250114_121957_t0.root' # using first versions of throwing ions directly"
   ]
  },
  {
   "cell_type": "code",
   "execution_count": 14,
   "metadata": {},
   "outputs": [],
   "source": [
    "# approx neutron hadElastic rate in highmass 1\n",
    "fname = '../build/rate_sim/simdata_nogammas2_20250205_155803_t0.root'\n",
    "\n",
    "def hadElasticRate(fname, volname = 'highmass1', procname = 'hadElastic'):\n",
    "    tfile = ROOT.TFile.Open(fname, 'READ')\n",
    "    tree = tfile.Get('tree')\n",
    "    N = tree.GetEntries()\n",
    "    Nevts = 0\n",
    "    last_event = -1\n",
    "    hit = False\n",
    "    for k in range(N):\n",
    "        tree.GetEntry(k)\n",
    "        EventNum = int(getattr(tree, 'EventNum'))\n",
    "        VolName = getattr(tree, 'VolName')\n",
    "        ProcName = getattr(tree, 'ProcName')\n",
    "\n",
    "        if abs(EventNum - last_event) > 1e-6: # new event\n",
    "            if hit:\n",
    "                Nevts += 1\n",
    "            hit = False\n",
    "            last_event = EventNum\n",
    "\n",
    "        if VolName == volname and ProcName == procname:\n",
    "            hit = True\n",
    "\n",
    "    tfile.Close()\n",
    "    return Nevts\n",
    "\n",
    "nhadElastic = hadElasticRate(fname)"
   ]
  },
  {
   "cell_type": "code",
   "execution_count": 15,
   "metadata": {},
   "outputs": [
    {
     "data": {
      "text/plain": [
       "1273"
      ]
     },
     "execution_count": 15,
     "metadata": {},
     "output_type": "execute_result"
    }
   ],
   "source": [
    "nhadElastic"
   ]
  },
  {
   "cell_type": "code",
   "execution_count": 16,
   "metadata": {},
   "outputs": [
    {
     "data": {
      "text/plain": [
       "4710.099999999999"
      ]
     },
     "execution_count": 16,
     "metadata": {},
     "output_type": "execute_result"
    }
   ],
   "source": [
    "1273/mCu_exposure_time(1e7) # Hz"
   ]
  },
  {
   "cell_type": "code",
   "execution_count": 17,
   "metadata": {},
   "outputs": [
    {
     "name": "stdout",
     "output_type": "stream",
     "text": [
      "highmass1 nCapture 46113\n",
      "highmass1 hadElastic 112234\n",
      "lowmass nCapture 3\n"
     ]
    }
   ],
   "source": [
    "# 7 cm PE\n",
    "#ff = 'simdata_nolead_20250211_162433'\n",
    "#ff = 'simdata_nolead_20250213_133837'\n",
    "\n",
    "# 8 cm PE\n",
    "#ff = 'simdata_nolead_20250207_130303' # 100M primaries\n",
    "#ff = 'simdata_nolead_20250213_140832'\n",
    "\n",
    "# 9 cm PE\n",
    "#ff = 'simdata_nolead_20250207_164528'\n",
    "#ff = 'simdata_nolead_20250213_154036'\n",
    "\n",
    "# 10 cm PE\n",
    "#ff = 'simdata_nolead_20250207_122926' # 100M primaries\n",
    "#ff = 'simdata_nolead_20250207_121842' # 10M primaries\n",
    "#ff = 'simdata_nolead_20250213_162939'\n",
    "\n",
    "# 11 cm PE\n",
    "#ff = 'simdata_nolead_20250211_155448'\n",
    "ff = 'simdata_nolead_20250213_165859'\n",
    "\n",
    "files = glob.glob(f'../build/rate_sim/{ff}_t?.root')\n",
    "for proc, vol in zip(('nCapture', 'hadElastic', 'nCapture'), ('highmass1', 'highmass1', 'lowmass')):\n",
    "    nHits = sum(hadElasticRate(file, procname = proc, volname = vol) for file in files)\n",
    "    print(vol, proc, nHits)\n"
   ]
  },
  {
   "cell_type": "code",
   "execution_count": 18,
   "metadata": {},
   "outputs": [
    {
     "data": {
      "text/plain": [
       "2.7027027027027026"
      ]
     },
     "execution_count": 18,
     "metadata": {},
     "output_type": "execute_result"
    }
   ],
   "source": [
    "mCu_exposure_time(1e8)"
   ]
  },
  {
   "cell_type": "code",
   "execution_count": 19,
   "metadata": {},
   "outputs": [
    {
     "data": {
      "text/plain": [
       "2.96"
      ]
     },
     "execution_count": 19,
     "metadata": {},
     "output_type": "execute_result"
    }
   ],
   "source": [
    "8/mCu_exposure_time(1e8)"
   ]
  },
  {
   "cell_type": "code",
   "execution_count": 20,
   "metadata": {},
   "outputs": [
    {
     "name": "stdout",
     "output_type": "stream",
     "text": [
      "collecting 40 files\n",
      "{(10.0, 5.0): array([[2.5758475e+04, 9.9655800e+03],\n",
      "       [1.6159750e+04, 6.6220750e+03],\n",
      "       [1.7575000e+01, 1.1100000e+00]]), (10.0, 6.0): array([[1.9102545e+04, 7.5348650e+03],\n",
      "       [1.2029070e+04, 5.0210850e+03],\n",
      "       [1.2025000e+01, 7.4000000e-01]]), (10.0, 4.0): array([[3.480590e+04, 1.337217e+04],\n",
      "       [2.172677e+04, 8.867420e+03],\n",
      "       [2.072000e+01, 7.400000e-01]])}\n"
     ]
    }
   ],
   "source": [
    "importlib.reload(so)\n",
    "\n",
    "match = 'Lead*_PE*_????????_??????_t?.root'\n",
    "\n",
    "opt = so.ShieldOptimization(match = match, Ndefault = 1e8, verbose = 1)\n",
    "opt.analyze()\n",
    "\n",
    "print(opt.rates)"
   ]
  },
  {
   "cell_type": "code",
   "execution_count": 21,
   "metadata": {},
   "outputs": [
    {
     "name": "stdout",
     "output_type": "stream",
     "text": [
      "10 cm lead, 4 cm poly: 0.74 Hz captures in lowmass (2 captures)\n",
      "10 cm lead, 5 cm poly: 1.11 Hz captures in lowmass (6 captures)\n",
      "10 cm lead, 6 cm poly: 0.74 Hz captures in lowmass (4 captures)\n"
     ]
    }
   ],
   "source": [
    "for poly in (4.,5.,6.):\n",
    "    r = opt.get_rate(lead = 10., poly = poly, det = 'lowmass', proc = 'nCapture')\n",
    "    n = opt.totals[(10.,poly)][(2,1)]\n",
    "    print(f'10 cm lead, {poly:.0f} cm poly: {r:.4g} Hz captures in lowmass ({n:.0f} captures)')"
   ]
  },
  {
   "cell_type": "code",
   "execution_count": 22,
   "metadata": {},
   "outputs": [
    {
     "data": {
      "text/plain": [
       "Text(0, 0.5, 'capture rate [Hz]')"
      ]
     },
     "execution_count": 22,
     "metadata": {},
     "output_type": "execute_result"
    },
    {
     "data": {
      "image/png": "[encoded data removed]",
      "text/plain": [
       "<Figure size 640x480 with 1 Axes>"
      ]
     },
     "metadata": {},
     "output_type": "display_data"
    }
   ],
   "source": [
    "lead, poly, rate, drate = opt.get_capture_rate()\n",
    "\n",
    "plt.errorbar(poly, rate, yerr = drate, linestyle = '', marker = '_', capsize = 2)\n",
    "plt.grid()\n",
    "plt.title('rate of n capture in lowmass with 1mCu source')\n",
    "plt.xlabel('poly thickness [cm]')\n",
    "plt.ylabel('capture rate [Hz]')"
   ]
  },
  {
   "cell_type": "code",
   "execution_count": 23,
   "metadata": {},
   "outputs": [
    {
     "data": {
      "text/plain": [
       "1.1100000000000003"
      ]
     },
     "execution_count": 23,
     "metadata": {},
     "output_type": "execute_result"
    }
   ],
   "source": [
    "opt.rates[(10.,5.)][(2,1)]"
   ]
  },
  {
   "cell_type": "code",
   "execution_count": null,
   "metadata": {},
   "outputs": [],
   "source": []
  },
  {
   "cell_type": "code",
   "execution_count": 24,
   "metadata": {},
   "outputs": [
    {
     "data": {
      "text/plain": [
       "1"
      ]
     },
     "execution_count": 24,
     "metadata": {},
     "output_type": "execute_result"
    }
   ],
   "source": [
    "# file with one capture\n",
    "hadElasticRate('../build/shield_sim/Lead10_PE4_20250215_202507_t1.root', procname = 'nCapture', volname = 'lowmass')"
   ]
  },
  {
   "cell_type": "code",
   "execution_count": 25,
   "metadata": {},
   "outputs": [],
   "source": [
    "# read ShieldOptimization data from pickled Grace data\n",
    "import pickle\n",
    "with open('analysis_data/shield_opt.dat', 'rb') as file:\n",
    "    opt_grace = pickle.load(file)"
   ]
  },
  {
   "cell_type": "code",
   "execution_count": 26,
   "metadata": {},
   "outputs": [
    {
     "data": {
      "text/plain": [
       "Text(0, 0.5, 'capture rate [Hz]')"
      ]
     },
     "execution_count": 26,
     "metadata": {},
     "output_type": "execute_result"
    },
    {
     "data": {
      "image/png": "[encoded data removed]",
      "text/plain": [
       "<Figure size 640x480 with 1 Axes>"
      ]
     },
     "metadata": {},
     "output_type": "display_data"
    }
   ],
   "source": [
    "lead, poly, rate, drate = opt_grace.get_capture_rate()\n",
    "\n",
    "plt.errorbar(poly, rate, yerr = drate, linestyle = '', marker = '_', capsize = 2)\n",
    "plt.grid()\n",
    "plt.title('rate of nCapture in lowmass with 1mCu source')\n",
    "plt.xlabel('poly thickness [cm]')\n",
    "plt.ylabel('capture rate [Hz]')"
   ]
  },
  {
   "cell_type": "code",
   "execution_count": 27,
   "metadata": {},
   "outputs": [
    {
     "data": {
      "text/plain": [
       "97.0"
      ]
     },
     "execution_count": 27,
     "metadata": {},
     "output_type": "execute_result"
    }
   ],
   "source": [
    "opt_grace.totals[(10.,5.)][opt_grace.rates_accessor['lowmass']['nCapture']]"
   ]
  },
  {
   "cell_type": "code",
   "execution_count": 28,
   "metadata": {},
   "outputs": [
    {
     "data": {
      "text/plain": [
       "(1.1100000000000003, 0.7177999999999995, '+/-', 0.07288154773329113)"
      ]
     },
     "execution_count": 28,
     "metadata": {},
     "output_type": "execute_result"
    }
   ],
   "source": [
    "opt.rates[(10.,5.)][2,1], opt_grace.rates[(10.,5.)][2,1], '+/-', opt_grace.drates[(10.,5.)][2,1]"
   ]
  },
  {
   "cell_type": "code",
   "execution_count": 29,
   "metadata": {},
   "outputs": [
    {
     "name": "stdout",
     "output_type": "stream",
     "text": [
      "relative errors\n",
      "[[-7.44121156e-05  3.58257457e-03]\n",
      " [-2.23417331e-03  1.25669503e-03]\n",
      " [-5.93220339e-02 -5.46391753e-01]]\n",
      "sigma errors\n",
      "[[-0.13882629  4.16495211]\n",
      " [-3.29787138  1.18955395]\n",
      " [-2.80888421 -5.38133468]]\n"
     ]
    }
   ],
   "source": [
    "geom = (10.,5.)\n",
    "r1 = opt_grace.rates[geom]\n",
    "dr = opt_grace.drates[geom]\n",
    "r2 = opt.rates[geom]\n",
    "\n",
    "print('relative errors')\n",
    "print((r1-r2)/r1)\n",
    "print('sigma errors')\n",
    "print((r1-r2)/dr)"
   ]
  },
  {
   "cell_type": "code",
   "execution_count": 30,
   "metadata": {},
   "outputs": [
    {
     "name": "stdout",
     "output_type": "stream",
     "text": [
      "collecting 1328 files\n",
      "1/1328 done\n",
      "133/1328 done\n",
      "265/1328 done\n",
      "397/1328 done\n",
      "529/1328 done\n",
      "661/1328 done\n",
      "793/1328 done\n",
      "925/1328 done\n",
      "1057/1328 done\n",
      "1189/1328 done\n",
      "1321/1328 done\n"
     ]
    }
   ],
   "source": [
    "# testing airgaps between source and poly \n",
    "\n",
    "opt_gap = so.ShieldOptimization(match = 'Air*_PE*_*_t?.root', folder = '../build/gap_sim_5cm/', Ndefault = 1e7, verbose = 3, part = 10)\n",
    "opt_gap.analyze()"
   ]
  },
  {
   "cell_type": "code",
   "execution_count": 31,
   "metadata": {},
   "outputs": [
    {
     "data": {
      "text/plain": [
       "Text(0, 0.5, 'capture rate [Hz]')"
      ]
     },
     "execution_count": 31,
     "metadata": {},
     "output_type": "execute_result"
    },
    {
     "data": {
      "image/png": "[encoded data removed]",
      "text/plain": [
       "<Figure size 640x480 with 1 Axes>"
      ]
     },
     "metadata": {},
     "output_type": "display_data"
    }
   ],
   "source": [
    "lead, poly, rate, drate = opt_gap.get_capture_rate()\n",
    "totaldist = (poly+lead).mean()\n",
    "\n",
    "plt.errorbar(poly, rate, yerr = drate, linestyle = '', marker = '_', capsize = 2)\n",
    "plt.grid()\n",
    "plt.title(f'rate of nCapture in lowmass with {totaldist} cm total distance to source')\n",
    "plt.xlabel('poly thickness [cm]')\n",
    "plt.ylabel('capture rate [Hz]')"
   ]
  },
  {
   "cell_type": "code",
   "execution_count": null,
   "metadata": {},
   "outputs": [
    {
     "name": "stdout",
     "output_type": "stream",
     "text": [
      "collecting 720 files\n",
      "1/720 done\n",
      "73/720 done\n",
      "145/720 done\n",
      "217/720 done\n",
      "289/720 done\n",
      "361/720 done\n",
      "433/720 done\n",
      "505/720 done\n",
      "577/720 done\n",
      "649/720 done\n"
     ]
    }
   ],
   "source": [
    "# testing airgaps between source and poly \n",
    "\n",
    "opt8 = so.ShieldOptimization(match = 'Air*_PE*_*_t?.root', folder = '../build/gap_sim/', Ndefault = 1e8, verbose = 3, part = 10)\n",
    "opt8.analyze()"
   ]
  },
  {
   "cell_type": "code",
   "execution_count": 60,
   "metadata": {},
   "outputs": [
    {
     "data": {
      "text/plain": [
       "Text(0, 0.5, 'capture rate [Hz]')"
      ]
     },
     "execution_count": 60,
     "metadata": {},
     "output_type": "execute_result"
    },
    {
     "data": {
      "image/png": "[encoded data removed]",
      "text/plain": [
       "<Figure size 640x480 with 1 Axes>"
      ]
     },
     "metadata": {},
     "output_type": "display_data"
    }
   ],
   "source": [
    "lead, poly, rate, drate = opt8.get_capture_rate()\n",
    "totaldist = (poly+lead).mean()\n",
    "\n",
    "plt.errorbar(poly, rate, yerr = drate, linestyle = '', marker = '_', capsize = 2)\n",
    "plt.grid()\n",
    "plt.title(f'rate of nCapture in lowmass with {totaldist} cm total distance to source')\n",
    "plt.xlabel('poly thickness [cm]')\n",
    "plt.ylabel('capture rate [Hz]')"
   ]
  },
  {
   "cell_type": "code",
   "execution_count": null,
   "metadata": {},
   "outputs": [
    {
     "data": {
      "text/plain": [
       "<matplotlib.legend.Legend at 0x332f684c0>"
      ]
     },
     "execution_count": 69,
     "metadata": {},
     "output_type": "execute_result"
    },
    {
     "data": {
      "image/png": "[encoded data removed]",
      "text/plain": [
       "<Figure size 640x480 with 1 Axes>"
      ]
     },
     "metadata": {},
     "output_type": "display_data"
    }
   ],
   "source": [
    "# collect rate data\n",
    "all_rates = []\n",
    "drates = []\n",
    "lead = []\n",
    "poly = []\n",
    "\n",
    "for l, p in opt8.rates:\n",
    "    lead.append(l)\n",
    "    poly.append(p)\n",
    "    all_rates.append(opt8.rates[(l,p)])\n",
    "    drates.append(opt8.drates[(l,p)])\n",
    "\n",
    "all_rates = np.array(all_rates)\n",
    "drates = np.array(drates)\n",
    "lead = np.array(lead)\n",
    "poly = np.array(poly)\n",
    "\n",
    "\n",
    "lm_capture = all_rates[:,2,1]\n",
    "lm_capture_err = drates[:,2,1]\n",
    "\n",
    "hm1_total = all_rates[:,0,:].sum(axis = 1)\n",
    "hm1_total_err = drates[:,0,:].sum(axis = 1)\n",
    "\n",
    "hm2_total = all_rates[:,1,:].sum(axis = 1)\n",
    "hm2_total_err = drates[:,1,:].sum(axis = 1)\n",
    "\n",
    "plt.figure()\n",
    "#plt.errorbar(poly, lm_capture/1e3, yerr = lm_capture_err/1e3, linestyle = '', marker = '_', capsize = 2, label = 'lowmass capturees')\n",
    "plt.errorbar(poly, hm1_total/1e3, yerr = hm1_total_err/1e3, linestyle = '', marker = '_', capsize = 2, label = 'highmass1 n background')\n",
    "plt.errorbar(poly, hm2_total/1e3, yerr = hm2_total_err/1e3, linestyle = '', marker = '_', capsize = 2, label = 'highmass2 n background')\n",
    "plt.grid()\n",
    "#plt.semilogy()\n",
    "plt.title(f'8 cm total space between source and detectors')\n",
    "plt.xlabel('poly thickness [cm]')\n",
    "plt.ylabel('rate [kHz]')\n",
    "plt.legend()"
   ]
  },
  {
   "cell_type": "code",
   "execution_count": null,
   "metadata": {},
   "outputs": [
    {
     "data": {
      "text/plain": [
       "<matplotlib.legend.Legend at 0x35908e5f0>"
      ]
     },
     "execution_count": 98,
     "metadata": {},
     "output_type": "execute_result"
    },
    {
     "data": {
      "image/png": "[encoded data removed]",
      "text/plain": [
       "<Figure size 640x480 with 1 Axes>"
      ]
     },
     "metadata": {},
     "output_type": "display_data"
    }
   ],
   "source": [
    "# collect rate data\n",
    "all_rates_grace = []\n",
    "drates_grace = []\n",
    "lead_grace = []\n",
    "poly_grace = []\n",
    "\n",
    "for l, p in opt_grace.rates:\n",
    "    lead_grace.append(l)\n",
    "    poly_grace.append(p)\n",
    "    all_rates_grace.append(opt_grace.rates[(l,p)])\n",
    "    drates_grace.append(opt_grace.drates[(l,p)])\n",
    "\n",
    "all_rates_grace = np.array(all_rates_grace)\n",
    "drates_grace = np.array(drates_grace)\n",
    "lead_grace = np.array(lead_grace)\n",
    "poly_grace = np.array(poly_grace)\n",
    "\n",
    "\n",
    "lm_capture_grace = all_rates_grace[:,2,1]\n",
    "lm_capture_err_grace = drates_grace[:,2,1]\n",
    "\n",
    "hm1_total_grace = all_rates_grace[:,0,:].sum(axis = 1)\n",
    "hm1_total_err_grace = drates_grace[:,0,:].sum(axis = 1)\n",
    "\n",
    "hm2_total_grace = all_rates_grace[:,1,:].sum(axis = 1)\n",
    "hm2_total_err_grace = drates_grace[:,1,:].sum(axis = 1)\n",
    "\n",
    "plt.figure()\n",
    "#plt.errorbar(poly_grace, lm_capture_grace/1e3, yerr = lm_capture_err_grace/1e3, linestyle = '', marker = '_', capsize = 2, label = 'lowmass capturees')\n",
    "plt.errorbar(poly_grace, hm1_total_grace/1e3, yerr = hm1_total_err_grace/1e3, linestyle = '', marker = '_', capsize = 2, label = 'highmass1 n background')\n",
    "plt.errorbar(poly_grace, hm2_total_grace/1e3, yerr = hm2_total_err_grace/1e3, linestyle = '', marker = '_', capsize = 2, label = 'highmass2 n background')\n",
    "plt.grid()\n",
    "#plt.semilogy()\n",
    "plt.title(f'10 cm lead + poly (no airgaps)')\n",
    "plt.xlabel('poly thickness [cm]')\n",
    "plt.ylabel('rate [kHz]')\n",
    "plt.legend()"
   ]
  },
  {
   "cell_type": "code",
   "execution_count": null,
   "metadata": {},
   "outputs": [
    {
     "data": {
      "text/plain": [
       "array([35.7579692 , 19.702574  , 64.47287493, 26.57784   , 48.060928  ])"
      ]
     },
     "execution_count": 94,
     "metadata": {},
     "output_type": "execute_result"
    }
   ],
   "source": [
    "hm1_total_grace/1e3 # kHz"
   ]
  },
  {
   "cell_type": "code",
   "execution_count": 85,
   "metadata": {},
   "outputs": [
    {
     "data": {
      "text/plain": [
       "True"
      ]
     },
     "execution_count": 85,
     "metadata": {},
     "output_type": "execute_result"
    }
   ],
   "source": [
    "all(x== 2.5e8/8 for x in opt_grace.primaries)"
   ]
  },
  {
   "cell_type": "code",
   "execution_count": 144,
   "metadata": {},
   "outputs": [
    {
     "data": {
      "text/plain": [
       "array([[3.480616e+06, 1.351542e+06],\n",
       "       [2.178882e+06, 8.960010e+05],\n",
       "       [2.242000e+03, 9.700000e+01]])"
      ]
     },
     "execution_count": 144,
     "metadata": {},
     "output_type": "execute_result"
    }
   ],
   "source": [
    "opt_grace.totals[(10.,5.)]"
   ]
  },
  {
   "cell_type": "code",
   "execution_count": 99,
   "metadata": {},
   "outputs": [
    {
     "data": {
      "text/plain": [
       "{(10.0, 5.0): 135.13513513513522,\n",
       " (10.0, 7.0): 135.13513513513522,\n",
       " (10.0, 3.0): 101.35135135135148,\n",
       " (10.0, 6.0): 135.13513513513522,\n",
       " (10.0, 4.0): 135.13513513513522}"
      ]
     },
     "execution_count": 99,
     "metadata": {},
     "output_type": "execute_result"
    }
   ],
   "source": [
    "opt_grace.total_exposure"
   ]
  },
  {
   "cell_type": "code",
   "execution_count": 110,
   "metadata": {},
   "outputs": [
    {
     "name": "stdout",
     "output_type": "stream",
     "text": [
      "[[2.5864480e+04 1.0169376e+04]\n",
      " [1.6117792e+04 6.6528960e+03]\n",
      " [1.6576000e+01 0.0000000e+00]]\n",
      "[[2.57565584e+04 1.00014108e+04]\n",
      " [1.61237268e+04 6.63040740e+03]\n",
      " [1.65908000e+01 7.17800000e-01]]\n"
     ]
    }
   ],
   "source": [
    "print(opt_grace.rate_list[0])\n",
    "\n",
    "print(opt_grace.rates[opt_grace.measurements[0]])"
   ]
  },
  {
   "cell_type": "code",
   "execution_count": 113,
   "metadata": {},
   "outputs": [
    {
     "data": {
      "text/plain": [
       "('Lead10_PE5_20250218_115959_0019_t0.root', (10.0, 5.0))"
      ]
     },
     "execution_count": 113,
     "metadata": {},
     "output_type": "execute_result"
    }
   ],
   "source": [
    "opt_grace.filename_list[0], opt_grace.measurements[0]"
   ]
  },
  {
   "cell_type": "code",
   "execution_count": 166,
   "metadata": {},
   "outputs": [
    {
     "name": "stdout",
     "output_type": "stream",
     "text": [
      "no gammas\n",
      "collecting 8 files\n",
      "1/8 done\n",
      "with gammas\n",
      "collecting 40 files\n",
      "1/40 done\n",
      "11/40 done\n",
      "21/40 done\n",
      "31/40 done\n"
     ]
    }
   ],
   "source": [
    "# testing 10 cm Pb / 5 cm poly\n",
    "print('no gammas')\n",
    "opt_test = so.ShieldOptimization(match = 'Lead10.000000_PE5.000000_20250225_125032*.root', folder = '../build/shield_sim_test/', Ndefault = 1000000., verbose = 3, part = 1)\n",
    "opt_test.analyze()\n",
    "\n",
    "print('with gammas')\n",
    "opt_test_wgammas = so.BackgroundRates(match = 'Lead10.000000_PE*_20250226*.root', folder = '../build/shield_sim_test/', Ndefault = 1000000., verbose = 3, part = 4)\n",
    "opt_test_wgammas.analyze()\n"
   ]
  },
  {
   "cell_type": "code",
   "execution_count": 153,
   "metadata": {},
   "outputs": [
    {
     "data": {
      "text/plain": [
       "93"
      ]
     },
     "execution_count": 153,
     "metadata": {},
     "output_type": "execute_result"
    }
   ],
   "source": [
    "testfile = '../build/shield_sim_test/Lead10.000000_PE5.000000_20250225_125032_t0.root'\n",
    "\n",
    "hadElasticRate(testfile, procname = 'hadElastic', volname = 'highmass1')#/mCu_exposure_time(1000000./8)"
   ]
  },
  {
   "cell_type": "code",
   "execution_count": 154,
   "metadata": {},
   "outputs": [
    {
     "name": "stdout",
     "output_type": "stream",
     "text": [
      "[[2.5864480e+04 1.0169376e+04]\n",
      " [1.6117792e+04 6.6528960e+03]\n",
      " [1.6576000e+01 0.0000000e+00]]\n",
      "[[2.57565584e+04 1.00014108e+04]\n",
      " [1.61237268e+04 6.63040740e+03]\n",
      " [1.65908000e+01 7.17800000e-01]]\n",
      "[[24790.  9879.]\n",
      " [15096.  6401.]\n",
      " [   37.     0.]]\n"
     ]
    }
   ],
   "source": [
    "print(opt_grace.rate_list[0])\n",
    "print(opt_grace.rates[opt_grace.measurements[0]])\n",
    "print(opt_test.rates[opt_test.measurements[0]])"
   ]
  },
  {
   "cell_type": "code",
   "execution_count": 173,
   "metadata": {},
   "outputs": [
    {
     "name": "stdout",
     "output_type": "stream",
     "text": [
      "totals by detector and interaction process\n",
      " [[24790.  9879.]\n",
      " [15096.  6401.]\n",
      " [   37.     0.]]\n",
      "with gammas:\n",
      "[[59422. 18685.]\n",
      " [37666. 12543.]\n",
      " [   74.     0.]]\n",
      "\n",
      "totals by detector (no gammas)\n",
      " [34669. 21497.    37.]\n"
     ]
    }
   ],
   "source": [
    "print('totals by detector and interaction process\\n', opt_test.rates[opt_test.measurements[0]])\n",
    "print('with gammas:')\n",
    "print(opt_test_wgammas.rates[(10.,5.)])\n",
    "\n",
    "print('\\ntotals by detector (no gammas)\\n', opt_test.rates[opt_test.measurements[0]].sum(axis=1))"
   ]
  },
  {
   "cell_type": "code",
   "execution_count": 182,
   "metadata": {},
   "outputs": [
    {
     "data": {
      "text/plain": [
       "<matplotlib.legend.Legend at 0x359c0f3d0>"
      ]
     },
     "execution_count": 182,
     "metadata": {},
     "output_type": "execute_result"
    },
    {
     "data": {
      "image/png": "[encoded data removed]",
      "text/plain": [
       "<Figure size 640x480 with 1 Axes>"
      ]
     },
     "metadata": {},
     "output_type": "display_data"
    }
   ],
   "source": [
    "\n",
    "# collect rate data\n",
    "rates = []\n",
    "drates = []\n",
    "lead = []\n",
    "poly = []\n",
    "\n",
    "for l, p in opt_test_wgammas.rates:\n",
    "    lead.append(l)\n",
    "    poly.append(p)\n",
    "    rates.append(opt_test_wgammas.rates[(l,p)][:,0])\n",
    "    drates.append(opt_test_wgammas.drates[(l,p)][:,0])\n",
    "\n",
    "rates = np.array(rates)\n",
    "drates = np.array(drates)\n",
    "lead = np.array(lead)\n",
    "poly = np.array(poly)\n",
    "\n",
    "\n",
    "plt.figure()\n",
    "#plt.errorbar(poly, lm_capture/1e3, yerr = lm_capture_err/1e3, linestyle = '', marker = '_', capsize = 2, label = 'lowmass capturees')\n",
    "plt.errorbar(poly, rates[:,0]/1e3, yerr = drates[:,0]/1e3, linestyle = '', marker = '_', capsize = 2, label = 'highmass1 all background')\n",
    "plt.errorbar(poly, rates[:,1]/1e3, yerr = drates[:,1]/1e3, linestyle = '', marker = '_', capsize = 2, label = 'highmass2 all background')\n",
    "plt.grid()\n",
    "#plt.semilogy()\n",
    "plt.title(f'10 cm lead + poly (no airgaps)')\n",
    "plt.xlabel('poly thickness [cm]')\n",
    "plt.ylabel('rate [kHz]')\n",
    "plt.legend()"
   ]
  },
  {
   "cell_type": "code",
   "execution_count": null,
   "metadata": {},
   "outputs": [],
   "source": []
  },
  {
   "cell_type": "code",
   "execution_count": null,
   "metadata": {},
   "outputs": [],
   "source": []
  }
 ],
 "metadata": {
  "kernelspec": {
   "display_name": "root_env",
   "language": "python",
   "name": "python3"
  },
  "language_info": {
   "codemirror_mode": {
    "name": "ipython",
    "version": 3
   },
   "file_extension": ".py",
   "mimetype": "text/x-python",
   "name": "python",
   "nbconvert_exporter": "python",
   "pygments_lexer": "ipython3",
   "version": "3.10.16"
  }
 },
 "nbformat": 4,
 "nbformat_minor": 2
}
