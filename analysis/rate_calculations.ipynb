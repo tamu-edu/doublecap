{
 "cells": [
  {
   "cell_type": "code",
   "execution_count": 1,
   "metadata": {},
   "outputs": [
    {
     "name": "stdout",
     "output_type": "stream",
     "text": [
      "Welcome to JupyROOT 6.24/00\n"
     ]
    }
   ],
   "source": [
    "import numpy as np\n",
    "import matplotlib.pyplot as plt\n",
    "import pandas as pd\n",
    "import ROOT\n",
    "import glob\n",
    "import sys\n",
    "import os\n",
    "import tqdm"
   ]
  },
  {
   "cell_type": "code",
   "execution_count": 2,
   "metadata": {},
   "outputs": [],
   "source": [
    "# neutron separation energy of Cf-252\n",
    "Sn = 6.172 # MeV (energy of emitted neutron)\n",
    "\n",
    "activity = 19858367638938. # Bq/g (total decays, alphas and neutrons) [2]\n",
    "\n",
    "neutron_rate = 2.314e6 # neutrons / sec / ug [1]\n",
    "neutron_frac = 3.092/100 # fraction of neutrons (remainder alpha decays) [1]\n",
    "\n",
    "density = 15.1 # g/cm^3 (wikipedia)\n",
    "\n",
    "Si_density = 2.33 # g/cm^3 (from google)\n",
    "\n",
    "typical_purity = 1/4800 # typical fraction of Cf source that has active Cf-252 (numbers from [1] - ish: 5 cm x 1 cm radius block contains ~50 mg of Cf-252)\n",
    "\n",
    "volume = 0.1**3 # volume (cm^3)\n",
    "active_mass = density*(0.1**3)*typical_purity # grams\n",
    "total_activity = active_mass*activity # Bq (decays per second)\n",
    "\n",
    "samplerate = neutron_rate*1e6*density*volume*typical_purity # emission rate (neutrons per second)\n",
    "\n",
    "\n",
    "# [1] https://doi.org/10.1016/S0969-8043(00)00214-1\n",
    "# [2] https://doi.org/10.1016/j.anucene.2023.109699 \n",
    "# other: https://www.chemlin.org/isotope/californium-252\n",
    "\n",
    "def exposure_time(Nprimaries):\n",
    "    # seconds corresponding to Nprimaries\n",
    "    return Nprimaries/total_activity"
   ]
  },
  {
   "cell_type": "code",
   "execution_count": 3,
   "metadata": {},
   "outputs": [],
   "source": [
    "detectors = ['lowmass', 'highmass1', 'highmass2']\n",
    "def get_rates(*files):\n",
    "    counts = {det: 0 for det in detectors}\n",
    "    ncounts = {det: 0 for det in detectors}\n",
    "\n",
    "    if len(files) < 10:\n",
    "        tree_iter = lambda N: tqdm.trange(N)\n",
    "        file_iter = files\n",
    "    else:\n",
    "        tree_iter = lambda N: range(N)\n",
    "        file_iter = tqdm.tqdm(files)\n",
    "        \n",
    "\n",
    "\n",
    "    for file in file_iter:\n",
    "        last_event = -1\n",
    "        hits = {det: 0 for det in detectors}\n",
    "        tfile = ROOT.TFile.Open(file, 'READ')\n",
    "        tree = tfile.Get('tree')\n",
    "        N = tree.GetEntries()\n",
    "\n",
    "        for k in tree_iter(N):\n",
    "            tree.GetEntry(k)\n",
    "            EventNum = int(getattr(tree, 'EventNum'))\n",
    "            VolName = getattr(tree, 'VolName')\n",
    "            ProcName = getattr(tree, 'ProcName')\n",
    "            hits[VolName] += 1\n",
    "\n",
    "\n",
    "            if ProcName == 'nCapture':\n",
    "                ParentVol = getattr(tree, 'ParentVol')\n",
    "\n",
    "                if (ParentVol == VolName) and (getattr(tree, 'PName') != 'gamma'):\n",
    "                    ncounts[VolName] += 1\n",
    "\n",
    "            if abs(EventNum - last_event) > 1e-6: # new event\n",
    "                last_event = EventNum\n",
    "                for det in detectors:\n",
    "                    if hits[det] > 0:\n",
    "                        counts[det] += 1\n",
    "                \n",
    "                hits = {det: 0 for det in detectors}\n",
    "\n",
    "        tfile.Close()\n",
    "\n",
    "    return counts, ncounts\n",
    "\n"
   ]
  },
  {
   "cell_type": "code",
   "execution_count": 16,
   "metadata": {},
   "outputs": [
    {
     "name": "stderr",
     "output_type": "stream",
     "text": [
      "100%|██████████| 320/320 [01:08<00:00,  4.67it/s]"
     ]
    },
    {
     "name": "stdout",
     "output_type": "stream",
     "text": [
      "lowmass: 0.01621 kHz (519 counts)\n",
      "    captures: 0.06247 Hz (2 counts)\n",
      "highmass1: 16.26 kHz (5.21e+05 counts)\n",
      "    captures: 1331 Hz (4.26e+04 counts)\n",
      "highmass2: 9.389 kHz (3.01e+05 counts)\n",
      "    captures: 602.8 Hz (1.93e+04 counts)\n"
     ]
    },
    {
     "name": "stderr",
     "output_type": "stream",
     "text": [
      "\n"
     ]
    }
   ],
   "source": [
    "Nprimaries = 5e5\n",
    "T = exposure_time(Nprimaries)\n",
    "files_15_10 = [\n",
    "    #'../build/test_data/ratesim_20250109_125611_t0.root',\n",
    "    '../build/test_data/ratesim_20250109_130755_t0.root',\n",
    "] # 5.5e6 primaries\n",
    "\n",
    "files_15_5 = [\n",
    "    '../build/test_data/ratesim_20250109_133224_t0.root'\n",
    "] # 5e6 primaries\n",
    "\n",
    "files_10_5 = [\n",
    "    '../build/test_data/ratesim_20250109_135033_t0.root'\n",
    "] # 5e6 primaries\n",
    "\n",
    "files_10_10 = [\n",
    "    '../build/test_data/ratesim_20250109_140549_t0.root'\n",
    "] # 5e6 primaries\n",
    "\n",
    "files_10_15 = [\n",
    "    '../build/test_data/ratesim_20250109_142831_t0.root'\n",
    "] # 5e6 primaries\n",
    "\n",
    "files_15_15 = [\n",
    "    '../build/test_data/ratesim_20250109_144110_t0.root'\n",
    "] # 5e6 primaries\n",
    "\n",
    "files_20_5 = [\n",
    "    '../build/test_data/ratesim_20250109_150118_t0.root'\n",
    "] # 5e6 primaries\n",
    "# takeaways: not enough poly. For the same distance from the source, way more background events (and a fair amount of neutronElastic/neutronInelastic)\n",
    "\n",
    "files_15_5_v2 = glob.glob('../build/rate_data_15_5/ratesim_20250111_??????_t?.root')\n",
    "# 41*5e6 primaries\n",
    "\n",
    "files_12_5_v2 = glob.glob('../build/rate_data_12_5/ratesim2025011?_??????_t?.root')\n",
    "# 40*5e6 primaries\n",
    "\n",
    "files_10_5_v2 = glob.glob('../build/rate_data_10_5/ratesim_20250112_??????_t?.root')\n",
    "# 40*5e6 primaries\n",
    "\n",
    "counts, ncounts = get_rates(*files_10_5_v2)\n",
    "T = exposure_time(40*50e6)\n",
    "\n",
    "for det in detectors:\n",
    "    print(f'{det}: {counts[det]/T/1e3:.4g} kHz ({counts[det]:.3g} counts)')\n",
    "    print(f'    captures: {ncounts[det]/T:.4g} Hz ({ncounts[det]:.3g} counts)')"
   ]
  },
  {
   "cell_type": "code",
   "execution_count": 13,
   "metadata": {},
   "outputs": [
    {
     "data": {
      "text/plain": [
       "{'lowmass': 519, 'highmass1': 520670, 'highmass2': 300574}"
      ]
     },
     "execution_count": 13,
     "metadata": {},
     "output_type": "execute_result"
    }
   ],
   "source": [
    "counts"
   ]
  },
  {
   "cell_type": "code",
   "execution_count": 14,
   "metadata": {},
   "outputs": [
    {
     "data": {
      "text/plain": [
       "{'lowmass': 2, 'highmass1': 42609, 'highmass2': 19297}"
      ]
     },
     "execution_count": 14,
     "metadata": {},
     "output_type": "execute_result"
    }
   ],
   "source": [
    "ncounts"
   ]
  },
  {
   "cell_type": "code",
   "execution_count": null,
   "metadata": {},
   "outputs": [],
   "source": []
  },
  {
   "cell_type": "code",
   "execution_count": null,
   "metadata": {},
   "outputs": [],
   "source": []
  }
 ],
 "metadata": {
  "kernelspec": {
   "display_name": "root_env",
   "language": "python",
   "name": "python3"
  },
  "language_info": {
   "codemirror_mode": {
    "name": "ipython",
    "version": 3
   },
   "file_extension": ".py",
   "mimetype": "text/x-python",
   "name": "python",
   "nbconvert_exporter": "python",
   "pygments_lexer": "ipython3",
   "version": "3.9.5"
  }
 },
 "nbformat": 4,
 "nbformat_minor": 2
}
