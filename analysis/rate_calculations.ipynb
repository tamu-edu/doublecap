{
 "cells": [
  {
   "cell_type": "code",
   "execution_count": null,
   "metadata": {},
   "outputs": [
    {
     "name": "stderr",
     "output_type": "stream",
     "text": [
      "In module 'Darwin':\n",
      "/Applications/Xcode.app/Contents/Developer/Platforms/MacOSX.platform/Developer/SDKs/MacOSX.sdk/usr/include/libkern/arm/OSByteOrder.h:14:1: error: '_OSSwapInt16' has different definitions in different modules; definition in module 'Darwin.libkern.OSByteOrder' first difference is return type is 'uint16_t' (aka 'unsigned short')\n",
      "uint16_t\n",
      "^~~~~~~~\n",
      "/Applications/Xcode.app/Contents/Developer/Platforms/MacOSX.platform/Developer/SDKs/MacOSX.sdk/usr/include/libkern/arm/_OSByteOrder.h:49:1: note: but in 'DarwinFoundation.OSByteOrder' found different return type '__uint16_t' (aka 'unsigned short')\n",
      "__uint16_t\n",
      "^~~~~~~~~~\n",
      "In module 'Darwin':\n",
      "/Applications/Xcode.app/Contents/Developer/Platforms/MacOSX.platform/Developer/SDKs/MacOSX.sdk/usr/include/libkern/arm/OSByteOrder.h:24:1: error: '_OSSwapInt32' has different definitions in different modules; definition in module 'Darwin.libkern.OSByteOrder' first difference is return type is 'uint32_t' (aka 'unsigned int')\n",
      "uint32_t\n",
      "^~~~~~~~\n",
      "/Applications/Xcode.app/Contents/Developer/Platforms/MacOSX.platform/Developer/SDKs/MacOSX.sdk/usr/include/libkern/arm/_OSByteOrder.h:59:1: note: but in 'DarwinFoundation.OSByteOrder' found different return type '__uint32_t' (aka 'unsigned int')\n",
      "__uint32_t\n",
      "^~~~~~~~~~\n",
      "In module 'Darwin':\n",
      "/Applications/Xcode.app/Contents/Developer/Platforms/MacOSX.platform/Developer/SDKs/MacOSX.sdk/usr/include/libkern/arm/OSByteOrder.h:40:1: error: '_OSSwapInt64' has different definitions in different modules; definition in module 'Darwin.libkern.OSByteOrder' first difference is return type is 'uint64_t' (aka 'unsigned long long')\n",
      "uint64_t\n",
      "^~~~~~~~\n",
      "/Applications/Xcode.app/Contents/Developer/Platforms/MacOSX.platform/Developer/SDKs/MacOSX.sdk/usr/include/libkern/arm/_OSByteOrder.h:75:1: note: but in 'DarwinFoundation.OSByteOrder' found different return type '__uint64_t' (aka 'unsigned long long')\n",
      "__uint64_t\n",
      "^~~~~~~~~~\n"
     ]
    },
    {
     "name": "stdout",
     "output_type": "stream",
     "text": [
      "Welcome to JupyROOT 6.30/04\n"
     ]
    }
   ],
   "source": [
    "import numpy as np\n",
    "import matplotlib.pyplot as plt\n",
    "import pandas as pd\n",
    "import ROOT\n",
    "import glob\n",
    "import sys\n",
    "import os\n",
    "import tqdm\n",
    "\n",
    "import shield_optimization as so"
   ]
  },
  {
   "cell_type": "code",
   "execution_count": null,
   "metadata": {},
   "outputs": [],
   "source": [
    "# neutron separation energy of Cf-252\n",
    "Sn = 6.172 # MeV (energy of emitted neutron)\n",
    "\n",
    "activity = 19858367638938. # Bq/g (total decays, alphas and neutrons) [2]\n",
    "\n",
    "mCu = 37000000 # one millicurie in Bq\n",
    "\n",
    "neutron_rate = 2.314e6 # neutrons / sec / ug [1]\n",
    "neutron_frac = 3.092/100 # fraction of neutrons (remainder alpha decays) [1]\n",
    "\n",
    "density = 15.1 # g/cm^3 (wikipedia)\n",
    "\n",
    "Si_density = 2.33 # g/cm^3 (from google)\n",
    "\n",
    "#typical_purity = mCu/(0.1**3)/density/activity # set so that total is one mCu\n",
    "\n",
    "typical_purity = 1/4800 # typical fraction of Cf source that has active Cf-252 (numbers from [1] - ish: 5 cm x 1 cm radius block contains ~50 mg of Cf-252)\n",
    "\n",
    "volume = 0.1**3 # volume (cm^3)\n",
    "active_mass = density*volume*typical_purity # grams\n",
    "total_activity = active_mass*activity # Bq (decays per second)\n",
    "\n",
    "samplerate = neutron_rate*1e6*density*volume*typical_purity # emission rate (neutrons per second)\n",
    "\n",
    "\n",
    "# [1] https://doi.org/10.1016/S0969-8043(00)00214-1\n",
    "# [2] https://doi.org/10.1016/j.anucene.2023.109699 \n",
    "# other: https://www.chemlin.org/isotope/californium-252\n",
    "\n",
    "def exposure_time(Nprimaries):\n",
    "    # seconds corresponding to Nprimaries\n",
    "    return Nprimaries/total_activity\n",
    "\n",
    "def mCu_exposure_time(Nprimaries):\n",
    "    return Nprimaries/mCu"
   ]
  },
  {
   "cell_type": "code",
   "execution_count": 4,
   "metadata": {},
   "outputs": [
    {
     "name": "stdout",
     "output_type": "stream",
     "text": [
      "1.688408509842139\n"
     ]
    }
   ],
   "source": [
    "print(total_activity/mCu)"
   ]
  },
  {
   "cell_type": "code",
   "execution_count": 5,
   "metadata": {},
   "outputs": [
    {
     "data": {
      "text/plain": [
       "0.01776821179538174"
      ]
     },
     "execution_count": 5,
     "metadata": {},
     "output_type": "execute_result"
    }
   ],
   "source": [
    "def convert_to_one_mCu(rate):\n",
    "    return rate*mCu/total_activity\n",
    "\n",
    "convert_to_one_mCu(0.03)"
   ]
  },
  {
   "cell_type": "code",
   "execution_count": 6,
   "metadata": {},
   "outputs": [],
   "source": [
    "detectors = ['lowmass', 'highmass1', 'highmass2']\n",
    "def get_rates(*files):\n",
    "    counts = {det: 0 for det in detectors}\n",
    "    ncounts = {det: 0 for det in detectors}\n",
    "\n",
    "    if len(files) < 10:\n",
    "        tree_iter = lambda N: tqdm.trange(N)\n",
    "        file_iter = files\n",
    "    else:\n",
    "        tree_iter = lambda N: range(N)\n",
    "        file_iter = tqdm.tqdm(files)\n",
    "        \n",
    "\n",
    "\n",
    "    for file in file_iter:\n",
    "        last_event = -1\n",
    "        hits = {det: 0 for det in detectors}\n",
    "        tfile = ROOT.TFile.Open(file, 'READ')\n",
    "        tree = tfile.Get('tree')\n",
    "        N = tree.GetEntries()\n",
    "\n",
    "        for k in tree_iter(N):\n",
    "            tree.GetEntry(k)\n",
    "            EventNum = int(getattr(tree, 'EventNum'))\n",
    "            VolName = getattr(tree, 'VolName')\n",
    "            ProcName = getattr(tree, 'ProcName')\n",
    "            hits[VolName] += 1\n",
    "\n",
    "\n",
    "            if ProcName == 'nCapture':\n",
    "                ParentVol = getattr(tree, 'ParentVol')\n",
    "\n",
    "                if (ParentVol == VolName) and (getattr(tree, 'PName') != 'gamma'):\n",
    "                    ncounts[VolName] += 1\n",
    "\n",
    "            if abs(EventNum - last_event) > 1e-6: # new event\n",
    "                last_event = EventNum\n",
    "                for det in detectors:\n",
    "                    if hits[det] > 0:\n",
    "                        counts[det] += 1\n",
    "                \n",
    "                hits = {det: 0 for det in detectors}\n",
    "\n",
    "        tfile.Close()\n",
    "\n",
    "    return counts, ncounts\n",
    "\n"
   ]
  },
  {
   "cell_type": "code",
   "execution_count": 7,
   "metadata": {},
   "outputs": [
    {
     "name": "stdout",
     "output_type": "stream",
     "text": [
      "lowmass: 0 kHz (0 counts)\n",
      "    captures: 0 Hz (0 counts)\n",
      "highmass1: 0 kHz (0 counts)\n",
      "    captures: 0 Hz (0 counts)\n",
      "highmass2: 0 kHz (0 counts)\n",
      "    captures: 0 Hz (0 counts)\n"
     ]
    }
   ],
   "source": [
    "Nprimaries = 5e5\n",
    "T = exposure_time(Nprimaries)\n",
    "files_15_10 = [\n",
    "    #'../build/test_data/ratesim_20250109_125611_t0.root',\n",
    "    '../build/test_data/ratesim_20250109_130755_t0.root',\n",
    "] # 5.5e6 primaries\n",
    "\n",
    "files_15_5 = [\n",
    "    '../build/test_data/ratesim_20250109_133224_t0.root'\n",
    "] # 5e6 primaries\n",
    "\n",
    "files_10_5 = [\n",
    "    '../build/test_data/ratesim_20250109_135033_t0.root'\n",
    "] # 5e6 primaries\n",
    "\n",
    "files_10_10 = [\n",
    "    '../build/test_data/ratesim_20250109_140549_t0.root'\n",
    "] # 5e6 primaries\n",
    "\n",
    "files_10_15 = [\n",
    "    '../build/test_data/ratesim_20250109_142831_t0.root'\n",
    "] # 5e6 primaries\n",
    "\n",
    "files_15_15 = [\n",
    "    '../build/test_data/ratesim_20250109_144110_t0.root'\n",
    "] # 5e6 primaries\n",
    "\n",
    "files_20_5 = [\n",
    "    '../build/test_data/ratesim_20250109_150118_t0.root'\n",
    "] # 5e6 primaries\n",
    "# takeaways: not enough poly. For the same distance from the source, way more background events (and a fair amount of neutronElastic/neutronInelastic)\n",
    "\n",
    "files_15_5_v2 = glob.glob('../build/rate_data_15_5/ratesim_20250111_??????_t?.root')\n",
    "# 41*5e6 primaries\n",
    "\n",
    "files_12_5_v2 = glob.glob('../build/rate_data_12_5/ratesim2025011?_??????_t?.root')\n",
    "# 40*5e6 primaries\n",
    "\n",
    "files_10_5_v2 = glob.glob('../build/rate_data_10_5/ratesim_20250112_??????_t?.root')\n",
    "# 40*5e6 primaries\n",
    "\n",
    "counts, ncounts = get_rates(*files_10_5_v2)\n",
    "T = exposure_time(40*50e6)\n",
    "\n",
    "for det in detectors:\n",
    "    print(f'{det}: {counts[det]/T/1e3:.4g} kHz ({counts[det]:.3g} counts)')\n",
    "    print(f'    captures: {ncounts[det]/T:.4g} Hz ({ncounts[det]:.3g} counts)')"
   ]
  },
  {
   "cell_type": "code",
   "execution_count": 189,
   "metadata": {},
   "outputs": [
    {
     "name": "stderr",
     "output_type": "stream",
     "text": [
      "100%|██████████| 16/16 [00:04<00:00,  3.91it/s]"
     ]
    },
    {
     "name": "stdout",
     "output_type": "stream",
     "text": [
      "lowmass: 0.01869 kHz (101 counts)\n",
      "    captures: 1.11 Hz (6 counts)\n",
      "highmass1: 32.46 kHz (1.75e+05 counts)\n",
      "    captures: 1e+04 Hz (5.41e+04 counts)\n",
      "highmass2: 23.35 kHz (1.26e+05 counts)\n",
      "    captures: 6640 Hz (3.59e+04 counts)\n"
     ]
    },
    {
     "name": "stderr",
     "output_type": "stream",
     "text": [
      "\n"
     ]
    }
   ],
   "source": [
    "counts, ncounts = get_rates(*glob.glob('../build/shield_sim/Lead10_PE5*.root'))\n",
    "\n",
    "T = mCu_exposure_time(2*1e8)\n",
    "\n",
    "for det in detectors:\n",
    "    print(f'{det}: {counts[det]/T/1e3:.4g} kHz ({counts[det]:.3g} counts)')\n",
    "    print(f'    captures: {ncounts[det]/T:.4g} Hz ({ncounts[det]:.3g} counts)')"
   ]
  },
  {
   "cell_type": "code",
   "execution_count": 8,
   "metadata": {},
   "outputs": [
    {
     "data": {
      "text/plain": [
       "{'lowmass': 0, 'highmass1': 0, 'highmass2': 0}"
      ]
     },
     "execution_count": 8,
     "metadata": {},
     "output_type": "execute_result"
    }
   ],
   "source": [
    "counts"
   ]
  },
  {
   "cell_type": "code",
   "execution_count": 9,
   "metadata": {},
   "outputs": [
    {
     "data": {
      "text/plain": [
       "{'lowmass': 0, 'highmass1': 0, 'highmass2': 0}"
      ]
     },
     "execution_count": 9,
     "metadata": {},
     "output_type": "execute_result"
    }
   ],
   "source": [
    "ncounts"
   ]
  },
  {
   "cell_type": "code",
   "execution_count": 10,
   "metadata": {},
   "outputs": [
    {
     "data": {
      "text/plain": [
       "0.03204293994002423"
      ]
     },
     "execution_count": 10,
     "metadata": {},
     "output_type": "execute_result"
    }
   ],
   "source": [
    "np.sqrt(3)/exposure_time(40*50e6)*mCu/total_activity"
   ]
  },
  {
   "cell_type": "code",
   "execution_count": 11,
   "metadata": {},
   "outputs": [
    {
     "data": {
      "text/plain": [
       "5.561450291954484"
      ]
     },
     "execution_count": 11,
     "metadata": {},
     "output_type": "execute_result"
    }
   ],
   "source": [
    "9.39*mCu/total_activity"
   ]
  },
  {
   "cell_type": "code",
   "execution_count": 12,
   "metadata": {},
   "outputs": [
    {
     "data": {
      "text/plain": [
       "32.014796027714844"
      ]
     },
     "execution_count": 12,
     "metadata": {},
     "output_type": "execute_result"
    }
   ],
   "source": [
    "exposure_time(40*50e6)"
   ]
  },
  {
   "cell_type": "code",
   "execution_count": 13,
   "metadata": {},
   "outputs": [],
   "source": [
    "iontable = 'simdata_20250114_121957_t0.root' # using first versions of throwing ions directly"
   ]
  },
  {
   "cell_type": "code",
   "execution_count": 159,
   "metadata": {},
   "outputs": [],
   "source": [
    "# approx neutron hadElastic rate in highmass 1\n",
    "fname = '../build/rate_sim/simdata_nogammas2_20250205_155803_t0.root'\n",
    "\n",
    "def hadElasticRate(fname, volname = 'highmass1', procname = 'hadElastic'):\n",
    "    tfile = ROOT.TFile.Open(fname, 'READ')\n",
    "    tree = tfile.Get('tree')\n",
    "    N = tree.GetEntries()\n",
    "    Nevts = 0\n",
    "    last_event = -1\n",
    "    hit = False\n",
    "    for k in range(N):\n",
    "        tree.GetEntry(k)\n",
    "        EventNum = int(getattr(tree, 'EventNum'))\n",
    "        VolName = getattr(tree, 'VolName')\n",
    "        ProcName = getattr(tree, 'ProcName')\n",
    "\n",
    "        if abs(EventNum - last_event) > 1e-6: # new event\n",
    "            if hit:\n",
    "                Nevts += 1\n",
    "            hit = False\n",
    "            last_event = EventNum\n",
    "\n",
    "        if VolName == volname and ProcName == procname:\n",
    "            hit = True\n",
    "\n",
    "    tfile.Close()\n",
    "    return Nevts\n",
    "\n",
    "nhadElastic = hadElasticRate(fname)"
   ]
  },
  {
   "cell_type": "code",
   "execution_count": 160,
   "metadata": {},
   "outputs": [
    {
     "data": {
      "text/plain": [
       "1273"
      ]
     },
     "execution_count": 160,
     "metadata": {},
     "output_type": "execute_result"
    }
   ],
   "source": [
    "nhadElastic"
   ]
  },
  {
   "cell_type": "code",
   "execution_count": 161,
   "metadata": {},
   "outputs": [
    {
     "data": {
      "text/plain": [
       "4710.099999999999"
      ]
     },
     "execution_count": 161,
     "metadata": {},
     "output_type": "execute_result"
    }
   ],
   "source": [
    "1273/mCu_exposure_time(1e7) # Hz"
   ]
  },
  {
   "cell_type": "code",
   "execution_count": 162,
   "metadata": {},
   "outputs": [
    {
     "name": "stdout",
     "output_type": "stream",
     "text": [
      "highmass1 nCapture 46113\n",
      "highmass1 hadElastic 112234\n",
      "lowmass nCapture 3\n"
     ]
    }
   ],
   "source": [
    "# 7 cm PE\n",
    "#ff = 'simdata_nolead_20250211_162433'\n",
    "#ff = 'simdata_nolead_20250213_133837'\n",
    "\n",
    "# 8 cm PE\n",
    "#ff = 'simdata_nolead_20250207_130303' # 100M primaries\n",
    "#ff = 'simdata_nolead_20250213_140832'\n",
    "\n",
    "# 9 cm PE\n",
    "#ff = 'simdata_nolead_20250207_164528'\n",
    "#ff = 'simdata_nolead_20250213_154036'\n",
    "\n",
    "# 10 cm PE\n",
    "#ff = 'simdata_nolead_20250207_122926' # 100M primaries\n",
    "#ff = 'simdata_nolead_20250207_121842' # 10M primaries\n",
    "#ff = 'simdata_nolead_20250213_162939'\n",
    "\n",
    "# 11 cm PE\n",
    "#ff = 'simdata_nolead_20250211_155448'\n",
    "ff = 'simdata_nolead_20250213_165859'\n",
    "\n",
    "files = glob.glob(f'../build/rate_sim/{ff}_t?.root')\n",
    "for proc, vol in zip(('nCapture', 'hadElastic', 'nCapture'), ('highmass1', 'highmass1', 'lowmass')):\n",
    "    nHits = sum(hadElasticRate(file, procname = proc, volname = vol) for file in files)\n",
    "    print(vol, proc, nHits)\n"
   ]
  },
  {
   "cell_type": "code",
   "execution_count": 163,
   "metadata": {},
   "outputs": [
    {
     "data": {
      "text/plain": [
       "2.7027027027027026"
      ]
     },
     "execution_count": 163,
     "metadata": {},
     "output_type": "execute_result"
    }
   ],
   "source": [
    "mCu_exposure_time(1e8)"
   ]
  },
  {
   "cell_type": "code",
   "execution_count": 164,
   "metadata": {},
   "outputs": [
    {
     "data": {
      "text/plain": [
       "2.96"
      ]
     },
     "execution_count": 164,
     "metadata": {},
     "output_type": "execute_result"
    }
   ],
   "source": [
    "8/mCu_exposure_time(1e8)"
   ]
  },
  {
   "cell_type": "code",
   "execution_count": 270,
   "metadata": {},
   "outputs": [
    {
     "name": "stdout",
     "output_type": "stream",
     "text": [
      "collecting 40 files\n",
      "1/40 done\n",
      "5/40 done\n",
      "9/40 done\n",
      "13/40 done\n",
      "17/40 done\n",
      "21/40 done\n",
      "25/40 done\n",
      "29/40 done\n",
      "33/40 done\n",
      "37/40 done\n",
      "{(10.0, 5.0): array([[2.5758475e+04, 9.9655800e+03],\n",
      "       [1.6159750e+04, 6.6220750e+03],\n",
      "       [1.7575000e+01, 1.1100000e+00]]), (10.0, 6.0): array([[1.9102545e+04, 7.5348650e+03],\n",
      "       [1.2029070e+04, 5.0210850e+03],\n",
      "       [1.2025000e+01, 7.4000000e-01]]), (10.0, 4.0): array([[3.480590e+04, 1.337217e+04],\n",
      "       [2.172677e+04, 8.867420e+03],\n",
      "       [2.072000e+01, 7.400000e-01]])}\n"
     ]
    }
   ],
   "source": [
    "importlib.reload(so)\n",
    "\n",
    "match = 'Lead*_PE*_????????_??????_t?.root'\n",
    "\n",
    "opt = so.ShieldOptimization(match = match, Ndefault = 1e8, verbose = 1)\n",
    "opt.analyze()\n",
    "\n",
    "print(opt.rates)"
   ]
  },
  {
   "cell_type": "code",
   "execution_count": 282,
   "metadata": {},
   "outputs": [
    {
     "name": "stdout",
     "output_type": "stream",
     "text": [
      "10 cm lead, 4 cm poly: 0.74 Hz captures in lowmass (2 captures)\n",
      "10 cm lead, 5 cm poly: 1.11 Hz captures in lowmass (6 captures)\n",
      "10 cm lead, 6 cm poly: 0.74 Hz captures in lowmass (4 captures)\n"
     ]
    }
   ],
   "source": [
    "for poly in (4.,5.,6.):\n",
    "    r = opt.get_rate(lead = 10., poly = poly, det = 'lowmass', proc = 'nCapture')\n",
    "    n = opt.totals[(10.,poly)][(2,1)]\n",
    "    print(f'10 cm lead, {poly:.0f} cm poly: {r:.4g} Hz captures in lowmass ({n:.0f} captures)')"
   ]
  },
  {
   "cell_type": "code",
   "execution_count": 283,
   "metadata": {},
   "outputs": [
    {
     "data": {
      "text/plain": [
       "Text(0, 0.5, 'capture rate [Hz]')"
      ]
     },
     "execution_count": 283,
     "metadata": {},
     "output_type": "execute_result"
    },
    {
     "data": {
      "image/png": "[encoded data removed]",
      "text/plain": [
       "<Figure size 640x480 with 1 Axes>"
      ]
     },
     "metadata": {},
     "output_type": "display_data"
    }
   ],
   "source": [
    "lead, poly, rate, drate = opt.get_capture_rate()\n",
    "\n",
    "plt.errorbar(poly, rate, yerr = drate, linestyle = '', marker = '_', capsize = 2)\n",
    "plt.grid()\n",
    "plt.title('rate of n capture in lowmass with 1mCu source')\n",
    "plt.xlabel('poly thickness [cm]')\n",
    "plt.ylabel('capture rate [Hz]')"
   ]
  },
  {
   "cell_type": "code",
   "execution_count": 284,
   "metadata": {},
   "outputs": [
    {
     "data": {
      "text/plain": [
       "1.1100000000000003"
      ]
     },
     "execution_count": 284,
     "metadata": {},
     "output_type": "execute_result"
    }
   ],
   "source": [
    "opt.rates[(10.,5.)][(2,1)]"
   ]
  },
  {
   "cell_type": "code",
   "execution_count": null,
   "metadata": {},
   "outputs": [],
   "source": []
  },
  {
   "cell_type": "code",
   "execution_count": 285,
   "metadata": {},
   "outputs": [
    {
     "data": {
      "text/plain": [
       "1"
      ]
     },
     "execution_count": 285,
     "metadata": {},
     "output_type": "execute_result"
    }
   ],
   "source": [
    "# file with one capture\n",
    "hadElasticRate('../build/shield_sim/Lead10_PE4_20250215_202507_t1.root', procname = 'nCapture', volname = 'lowmass')"
   ]
  },
  {
   "cell_type": "code",
   "execution_count": 286,
   "metadata": {},
   "outputs": [],
   "source": [
    "# read ShieldOptimization data from pickled Grace data\n",
    "import pickle\n",
    "with open('analysis_data/shield_opt.dat', 'rb') as file:\n",
    "    opt_grace = pickle.load(file)"
   ]
  },
  {
   "cell_type": "code",
   "execution_count": 293,
   "metadata": {},
   "outputs": [
    {
     "data": {
      "text/plain": [
       "Text(0, 0.5, 'capture rate [Hz]')"
      ]
     },
     "execution_count": 293,
     "metadata": {},
     "output_type": "execute_result"
    },
    {
     "data": {
      "image/png": "[encoded data removed]",
      "text/plain": [
       "<Figure size 640x480 with 1 Axes>"
      ]
     },
     "metadata": {},
     "output_type": "display_data"
    }
   ],
   "source": [
    "lead, poly, rate, drate = opt_grace.get_capture_rate()\n",
    "\n",
    "plt.errorbar(poly, rate, yerr = drate, linestyle = '', marker = '_', capsize = 2)\n",
    "plt.grid()\n",
    "plt.title('rate of nCapture in lowmass with 1mCu source')\n",
    "plt.xlabel('poly thickness [cm]')\n",
    "plt.ylabel('capture rate [Hz]')"
   ]
  },
  {
   "cell_type": "code",
   "execution_count": 294,
   "metadata": {},
   "outputs": [
    {
     "data": {
      "text/plain": [
       "97.0"
      ]
     },
     "execution_count": 294,
     "metadata": {},
     "output_type": "execute_result"
    }
   ],
   "source": [
    "opt_grace.totals[(10.,5.)][opt_grace.rates_accessor['lowmass']['nCapture']]"
   ]
  },
  {
   "cell_type": "code",
   "execution_count": 295,
   "metadata": {},
   "outputs": [
    {
     "data": {
      "text/plain": [
       "(1.1100000000000003, 0.7177999999999995, '+/-', 0.07288154773329113)"
      ]
     },
     "execution_count": 295,
     "metadata": {},
     "output_type": "execute_result"
    }
   ],
   "source": [
    "opt.rates[(10.,5.)][2,1], opt_grace.rates[(10.,5.)][2,1], '+/-', opt_grace.drates[(10.,5.)][2,1]"
   ]
  },
  {
   "cell_type": "code",
   "execution_count": 296,
   "metadata": {},
   "outputs": [
    {
     "data": {
      "text/plain": [
       "(-0.39220000000000077, 0.07288154773329113)"
      ]
     },
     "execution_count": 296,
     "metadata": {},
     "output_type": "execute_result"
    }
   ],
   "source": [
    "r1[2,1]-r2[2,1], dr[2,1]"
   ]
  },
  {
   "cell_type": "code",
   "execution_count": 297,
   "metadata": {},
   "outputs": [
    {
     "name": "stdout",
     "output_type": "stream",
     "text": [
      "relative errors\n",
      "[[-7.44121156e-05  3.58257457e-03]\n",
      " [-2.23417331e-03  1.25669503e-03]\n",
      " [-5.93220339e-02 -5.46391753e-01]]\n",
      "sigma errors\n",
      "[[-0.13882629  4.16495211]\n",
      " [-3.29787138  1.18955395]\n",
      " [-2.80888421 -5.38133468]]\n"
     ]
    }
   ],
   "source": [
    "geom = (10.,5.)\n",
    "r1 = opt_grace.rates[geom]\n",
    "dr = opt_grace.drates[geom]\n",
    "r2 = opt.rates[geom]\n",
    "\n",
    "print('relative errors')\n",
    "print((r1-r2)/r1)\n",
    "print('sigma errors')\n",
    "print((r1-r2)/dr)"
   ]
  },
  {
   "cell_type": "code",
   "execution_count": null,
   "metadata": {},
   "outputs": [],
   "source": [
    "# testing airgaps between source and poly \n",
    "\n",
    "opt_gap = so.ShieldOptimization(match = 'Air*_PE*_*_t?.root', folder = '../build/gap_sim/', Ndefault = 1e7, verbose = 3, part = 10)\n",
    "opt_gap.analyze()"
   ]
  },
  {
   "cell_type": "code",
   "execution_count": 374,
   "metadata": {},
   "outputs": [
    {
     "data": {
      "text/plain": [
       "Text(0, 0.5, 'capture rate [Hz]')"
      ]
     },
     "execution_count": 374,
     "metadata": {},
     "output_type": "execute_result"
    },
    {
     "data": {
      "image/png": "[encoded data removed]",
      "text/plain": [
       "<Figure size 640x480 with 1 Axes>"
      ]
     },
     "metadata": {},
     "output_type": "display_data"
    }
   ],
   "source": [
    "lead, poly, rate, drate = opt_gap.get_capture_rate()\n",
    "\n",
    "plt.errorbar(poly, rate, yerr = drate, linestyle = '', marker = '_', capsize = 2)\n",
    "plt.grid()\n",
    "plt.title('rate of nCapture in lowmass with 5 cm total distance to source')\n",
    "plt.xlabel('poly thickness [cm]')\n",
    "plt.ylabel('capture rate [Hz]')"
   ]
  },
  {
   "cell_type": "code",
   "execution_count": 375,
   "metadata": {},
   "outputs": [
    {
     "data": {
      "text/plain": [
       "array([5., 5., 5., 5., 5., 5., 5., 5., 5., 5., 5., 5., 5., 5., 5., 5., 5.,\n",
       "       5., 5., 5., 5.])"
      ]
     },
     "execution_count": 375,
     "metadata": {},
     "output_type": "execute_result"
    }
   ],
   "source": [
    "poly+lead"
   ]
  },
  {
   "cell_type": "code",
   "execution_count": null,
   "metadata": {},
   "outputs": [],
   "source": []
  },
  {
   "cell_type": "code",
   "execution_count": null,
   "metadata": {},
   "outputs": [],
   "source": []
  },
  {
   "cell_type": "code",
   "execution_count": null,
   "metadata": {},
   "outputs": [],
   "source": []
  }
 ],
 "metadata": {
  "kernelspec": {
   "display_name": "root_env",
   "language": "python",
   "name": "python3"
  },
  "language_info": {
   "codemirror_mode": {
    "name": "ipython",
    "version": 3
   },
   "file_extension": ".py",
   "mimetype": "text/x-python",
   "name": "python",
   "nbconvert_exporter": "python",
   "pygments_lexer": "ipython3",
   "version": "3.10.16"
  }
 },
 "nbformat": 4,
 "nbformat_minor": 2
}
