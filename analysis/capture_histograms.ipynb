{
 "cells": [
  {
   "cell_type": "code",
   "execution_count": 1,
   "metadata": {},
   "outputs": [
    {
     "name": "stderr",
     "output_type": "stream",
     "text": [
      "In module 'Darwin':\n",
      "/Applications/Xcode.app/Contents/Developer/Platforms/MacOSX.platform/Developer/SDKs/MacOSX.sdk/usr/include/libkern/arm/OSByteOrder.h:14:1: error: '_OSSwapInt16' has different definitions in different modules; definition in module 'Darwin.libkern.OSByteOrder' first difference is return type is 'uint16_t' (aka 'unsigned short')\n",
      "uint16_t\n",
      "^~~~~~~~\n",
      "/Applications/Xcode.app/Contents/Developer/Platforms/MacOSX.platform/Developer/SDKs/MacOSX.sdk/usr/include/libkern/arm/_OSByteOrder.h:49:1: note: but in 'DarwinFoundation.OSByteOrder' found different return type '__uint16_t' (aka 'unsigned short')\n",
      "__uint16_t\n",
      "^~~~~~~~~~\n",
      "In module 'Darwin':\n",
      "/Applications/Xcode.app/Contents/Developer/Platforms/MacOSX.platform/Developer/SDKs/MacOSX.sdk/usr/include/libkern/arm/OSByteOrder.h:24:1: error: '_OSSwapInt32' has different definitions in different modules; definition in module 'Darwin.libkern.OSByteOrder' first difference is return type is 'uint32_t' (aka 'unsigned int')\n",
      "uint32_t\n",
      "^~~~~~~~\n",
      "/Applications/Xcode.app/Contents/Developer/Platforms/MacOSX.platform/Developer/SDKs/MacOSX.sdk/usr/include/libkern/arm/_OSByteOrder.h:59:1: note: but in 'DarwinFoundation.OSByteOrder' found different return type '__uint32_t' (aka 'unsigned int')\n",
      "__uint32_t\n",
      "^~~~~~~~~~\n",
      "In module 'Darwin':\n",
      "/Applications/Xcode.app/Contents/Developer/Platforms/MacOSX.platform/Developer/SDKs/MacOSX.sdk/usr/include/libkern/arm/OSByteOrder.h:40:1: error: '_OSSwapInt64' has different definitions in different modules; definition in module 'Darwin.libkern.OSByteOrder' first difference is return type is 'uint64_t' (aka 'unsigned long long')\n",
      "uint64_t\n",
      "^~~~~~~~\n",
      "/Applications/Xcode.app/Contents/Developer/Platforms/MacOSX.platform/Developer/SDKs/MacOSX.sdk/usr/include/libkern/arm/_OSByteOrder.h:75:1: note: but in 'DarwinFoundation.OSByteOrder' found different return type '__uint64_t' (aka 'unsigned long long')\n",
      "__uint64_t\n",
      "^~~~~~~~~~\n"
     ]
    },
    {
     "name": "stdout",
     "output_type": "stream",
     "text": [
      "Welcome to JupyROOT 6.30/04\n"
     ]
    }
   ],
   "source": [
    "import ROOT\n",
    "import numpy as np\n",
    "import matplotlib.pyplot as plt\n",
    "import pandas as pd\n",
    "import sys\n",
    "import glob\n",
    "import sys\n",
    "import os\n",
    "import pickle\n",
    "import tqdm"
   ]
  },
  {
   "cell_type": "code",
   "execution_count": 2,
   "metadata": {},
   "outputs": [],
   "source": [
    "detectors = ['lowmass', 'highmass1', 'highmass2']\n",
    "\n",
    "raw_data_dir = '../build/cap_sim/'\n",
    "\n",
    "# total number of primaries in the files that match the pattern glob.glob(raw_data_dir+key)\n",
    "primaries_dict = {\n",
    "    'simdata_20250302_113418_t*.root': 100000000.,\n",
    "}\n",
    "\n",
    "match = 'simdata_20250302_113418_t*.root'\n",
    "\n",
    "E1 = 8.4736 # MeV\n",
    "\n",
    "filenames = glob.glob(raw_data_dir+match)"
   ]
  },
  {
   "cell_type": "code",
   "execution_count": 3,
   "metadata": {},
   "outputs": [],
   "source": [
    "# get total energy deposited per event from gammas\n",
    "def get_gamma_deposit_spec(fnames, Ebins):\n",
    "    hists = {det: ROOT.TH1D(\n",
    "        fnames[0] + det,\n",
    "        fnames[0] + det,\n",
    "        len(Ebins)-1, Ebins\n",
    "    ) for det in detectors}\n",
    "\n",
    "    for fname in tqdm.tqdm(fnames):\n",
    "        tfile = ROOT.TFile.Open(fname, 'READ')\n",
    "        tree = tfile.Get('tree')\n",
    "\n",
    "        N = tree.GetEntries()\n",
    "\n",
    "        last_event = -1\n",
    "\n",
    "        Edep_evt = {det: 0. for det in detectors}\n",
    "\n",
    "        for k in range(N):\n",
    "            tree.GetEntry(k)\n",
    "\n",
    "            EventNum = int(getattr(tree, 'EventNum'))\n",
    "            Edep = float(getattr(tree, 'Edep'))\n",
    "            VolName = getattr(tree, 'VolName')\n",
    "\n",
    "            if abs(EventNum - last_event) > 1e-6: # if new event\n",
    "                last_event = EventNum\n",
    "\n",
    "                for det in detectors:\n",
    "                    if Edep_evt[det] > 0:\n",
    "                        hists[det].Fill(Edep_evt[det])\n",
    "        \n",
    "                # reset variables\n",
    "                Edep_evt = {det: 0. for det in detectors}\n",
    "        \n",
    "            # all events: add current Edep to Edep_evt\n",
    "            Edep_evt[VolName] += Edep\n",
    "\n",
    "\n",
    "        tfile.Close()\n",
    "\n",
    "    # end of fnames loop\n",
    "\n",
    "    cts = {det: np.zeros(Ebins.shape) for det in detectors}\n",
    "\n",
    "    for det in detectors:\n",
    "        for i in range(1, len(Ebins)):\n",
    "            cts[det][i-1] = hists[det].GetBinContent(i)\n",
    "\n",
    "    return cts"
   ]
  },
  {
   "cell_type": "code",
   "execution_count": 6,
   "metadata": {},
   "outputs": [],
   "source": [
    "\n",
    "\n",
    "class Counts:\n",
    "\n",
    "    def __init__(self, match, Emin = 0.5e-6, Emax = 10, Nbins = 200, logbins = False, raw_data_dir = '../build/cap_sim/'):\n",
    "\n",
    "        self.raw_data_dir = raw_data_dir\n",
    "        self.match = match\n",
    "        self.Nprimaries = primaries_dict[self.match]\n",
    "        self.filenames = glob.glob(self.raw_data_dir+self.match)\n",
    "\n",
    "        self.Emin = Emin\n",
    "        self.Emax = Emax\n",
    "        self.Nbins = Nbins\n",
    "\n",
    "        self.storage_dir = 'analysis_data/cap_sim_cts/'\n",
    "\n",
    "        if logbins:\n",
    "            self.Ebins = np.geomspace(Emin, Emax, Nbins+1, endpoint = False) \n",
    "        else:    \n",
    "            self.Ebins = np.linspace(Emin, Emax, Nbins+1, endpoint = True) # bin edges (MeV)\n",
    "\n",
    "\n",
    "        if self.match+'.txt' in os.listdir(self.storage_dir):\n",
    "            \n",
    "            with open(self.storage_dir + self.match + '.txt', 'rb') as file:\n",
    "                self.cts = pickle.load(file)\n",
    "            #self.cts = np.loadtxt(self.storage_dir + self.match+'.txt')\n",
    "            self.Ebins = np.loadtxt(self.storage_dir + self.match + '_Ebins.txt')\n",
    "            self.Nbins = len(self.Ebins)\n",
    "            Emin = self.Ebins[0]\n",
    "            Emax = self.Ebins[-1]\n",
    "\n",
    "            print('loaded ' + self.match+'.txt')\n",
    "        else:\n",
    "            print('running get_gamma_deposit_spec()')\n",
    "            self.cts = get_gamma_deposit_spec(self.filenames, self.Ebins)\n",
    "            with open('cap_sim_cts/' + self.match + '.txt', 'wb') as file:\n",
    "                pickle.dump(self.cts, file)\n",
    "            np.savetxt('cap_sim_cts/' + self.match + '_Ebins.txt', self.Ebins)\n",
    "\n",
    "        self.dE = (self.Ebins[1:] - self.Ebins[:-1]).mean()\n",
    "        self.Emids = (self.Ebins[1:] + self.Ebins[:-1])/2# bin centers"
   ]
  },
  {
   "cell_type": "code",
   "execution_count": 7,
   "metadata": {},
   "outputs": [
    {
     "name": "stdout",
     "output_type": "stream",
     "text": [
      "loaded simdata_20250302_113418_t*.root.txt\n"
     ]
    }
   ],
   "source": [
    "cts = Counts(match)\n",
    "cts.hm = cts.cts['highmass1'] + cts.cts['highmass2']"
   ]
  },
  {
   "cell_type": "code",
   "execution_count": 8,
   "metadata": {},
   "outputs": [
    {
     "name": "stdout",
     "output_type": "stream",
     "text": [
      "5.199e-04 per capture\n"
     ]
    }
   ],
   "source": [
    "idx_E1 = np.where(cts.Ebins > E1)[0][0] - 1\n",
    "print(f'{cts.hm[idx_E1]/cts.Nprimaries:.3e} per capture')"
   ]
  },
  {
   "cell_type": "code",
   "execution_count": 17,
   "metadata": {},
   "outputs": [
    {
     "data": {
      "text/plain": [
       "Text(0, 0.5, 'events per capture')"
      ]
     },
     "execution_count": 17,
     "metadata": {},
     "output_type": "execute_result"
    },
    {
     "data": {
      "image/png": "[encoded data removed]",
      "text/plain": [
       "<Figure size 640x480 with 1 Axes>"
      ]
     },
     "metadata": {},
     "output_type": "display_data"
    }
   ],
   "source": [
    "plt.figure()\n",
    "plt.grid()\n",
    "plt.semilogy()\n",
    "\n",
    "if 0:\n",
    "    for det in ('highmass1', 'highmass2'):\n",
    "        plt.step(cts.Ebins, cts.cts[det]/cts.Nprimaries, where = 'post', label = det)\n",
    "\n",
    "plt.step(cts.Ebins, cts.hm/cts.Nprimaries, where = 'post', label = 'highmass 1 + 2')\n",
    "\n",
    "#plt.axvline(E1, linestyle = 'dashed', color = 'gray', label = 'straight-to-ground')\n",
    "plt.plot([E1], [cts.hm[idx_E1]/cts.Nprimaries], '*', label = 'straight-to-ground')\n",
    "plt.legend()\n",
    "wind = plt.axis()\n",
    "plt.xlim(wind[0], 8.9)\n",
    "\n",
    "plt.xlabel('energy [MeV]')\n",
    "plt.ylabel('events per capture')"
   ]
  },
  {
   "cell_type": "code",
   "execution_count": null,
   "metadata": {},
   "outputs": [],
   "source": []
  },
  {
   "cell_type": "code",
   "execution_count": 11,
   "metadata": {},
   "outputs": [
    {
     "data": {
      "text/plain": [
       "(26068.0, 25922.0)"
      ]
     },
     "execution_count": 11,
     "metadata": {},
     "output_type": "execute_result"
    }
   ],
   "source": [
    "cts.cts['highmass1'][idx_E1], cts.cts['highmass2'][idx_E1]"
   ]
  },
  {
   "cell_type": "code",
   "execution_count": 12,
   "metadata": {},
   "outputs": [
    {
     "data": {
      "text/plain": [
       "0.0061936426394580005"
      ]
     },
     "execution_count": 12,
     "metadata": {},
     "output_type": "execute_result"
    }
   ],
   "source": [
    "1/np.sqrt(cts.cts['highmass1'][idx_E1])"
   ]
  },
  {
   "cell_type": "code",
   "execution_count": null,
   "metadata": {},
   "outputs": [],
   "source": []
  },
  {
   "cell_type": "code",
   "execution_count": null,
   "metadata": {},
   "outputs": [],
   "source": []
  }
 ],
 "metadata": {
  "kernelspec": {
   "display_name": "root_env",
   "language": "python",
   "name": "python3"
  },
  "language_info": {
   "codemirror_mode": {
    "name": "ipython",
    "version": 3
   },
   "file_extension": ".py",
   "mimetype": "text/x-python",
   "name": "python",
   "nbconvert_exporter": "python",
   "pygments_lexer": "ipython3",
   "version": "3.10.16"
  }
 },
 "nbformat": 4,
 "nbformat_minor": 2
}
